{
  "nbformat": 4,
  "nbformat_minor": 0,
  "metadata": {
    "colab": {
      "provenance": [],
      "authorship_tag": "ABX9TyPiC9RP6/5Mhu7vVhbzTYR+",
      "include_colab_link": true
    },
    "kernelspec": {
      "name": "python3",
      "display_name": "Python 3"
    },
    "language_info": {
      "name": "python"
    }
  },
  "cells": [
    {
      "cell_type": "markdown",
      "metadata": {
        "id": "view-in-github",
        "colab_type": "text"
      },
      "source": [
        "<a href=\"https://colab.research.google.com/github/timothy-hippo/20230205-python/blob/main/20230205.ipynb\" target=\"_parent\"><img src=\"https://colab.research.google.com/assets/colab-badge.svg\" alt=\"Open In Colab\"/></a>"
      ]
    },
    {
      "cell_type": "markdown",
      "source": [
        "# Markdown說明\n",
        "\n",
        "## 標題\n",
        "# 最大標題\n",
        "## 次大標題\n",
        "### 次次大標題\n",
        "\n",
        "## 列表清單\n",
        "* item\n",
        "* item\n",
        "* item\n",
        "\n",
        "## 連結\n",
        "[Google](https://www.google.com.tw/)"
      ],
      "metadata": {
        "id": "DFzjQqP-hIfv"
      }
    },
    {
      "cell_type": "markdown",
      "source": [
        "##  LINE Notify\n",
        "從github，將 linenotify.py下載到colab裡面來\n",
        "\n",
        "輸入這行後，按執行就會將模組下載到colab\n",
        "\n",
        "!wget https://raw.githubusercontent.com/victorgau/khpy_linenotify_intro/main/py/linenotify.py\n",
        "\n",
        "\n",
        "\n",
        "傳送貼紙\n",
        "https://github.com/victorgau/khpy_linenotify_intro/raw/main/misc/sticker_list.pdf\n",
        "\n"
      ],
      "metadata": {
        "id": "rEjW6QiQIZvI"
      }
    },
    {
      "cell_type": "code",
      "source": [
        "# 傳文字\n",
        "from linenotify import Notify\n",
        "r = Notify('Tdj1zVrVsAeanJvbl8jHm7b0Y1if9rPtAdPsD0OkzRO', 'HI')\n",
        "r.headers"
      ],
      "metadata": {
        "colab": {
          "base_uri": "https://localhost:8080/"
        },
        "id": "hjfymhzUF1Un",
        "outputId": "0b05deb1-2e9e-464e-8a35-c4a83a7b0bed"
      },
      "execution_count": null,
      "outputs": [
        {
          "output_type": "execute_result",
          "data": {
            "text/plain": [
              "{'Server': 'nginx', 'Date': 'Sun, 05 Feb 2023 06:42:54 GMT', 'Content-Type': 'application/json', 'Transfer-Encoding': 'chunked', 'Keep-Alive': 'timeout=9', 'Vary': 'Accept-Encoding', 'X-RateLimit-Limit': '1000', 'X-RateLimit-ImageLimit': '50', 'X-RateLimit-Remaining': '986', 'X-RateLimit-ImageRemaining': '44', 'X-RateLimit-Reset': '1675579793', 'X-Robots-Tag': 'noindex, nofollow, nosnippet, noarchive', 'Content-Encoding': 'gzip'}"
            ]
          },
          "metadata": {},
          "execution_count": 49
        }
      ]
    },
    {
      "cell_type": "code",
      "source": [
        "# 傳貼圖\n",
        "from linenotify import Notify\n",
        "Notify('Tdj1zVrVsAeanJvbl8jHm7b0Y1if9rPtAdPsD0OkzRO', 'HI', 1, 4)"
      ],
      "metadata": {
        "id": "ji_Wr1m8P7q9"
      },
      "execution_count": null,
      "outputs": []
    },
    {
      "cell_type": "code",
      "source": [
        "# 傳圖片\n",
        "from linenotify import Notify\n",
        "Notify('Tdj1zVrVsAeanJvbl8jHm7b0Y1if9rPtAdPsD0OkzRO', 'HI', 1, 4, './photo-1675453019509-2d2368e36a38.jpg')"
      ],
      "metadata": {
        "colab": {
          "base_uri": "https://localhost:8080/"
        },
        "id": "dftI3AORP1bs",
        "outputId": "a892deed-ba66-4398-dbc2-a71b37170b5c"
      },
      "execution_count": null,
      "outputs": [
        {
          "output_type": "execute_result",
          "data": {
            "text/plain": [
              "<Response [200]>"
            ]
          },
          "metadata": {},
          "execution_count": 47
        }
      ]
    },
    {
      "cell_type": "markdown",
      "source": [],
      "metadata": {
        "id": "CDVFbBv_igY1"
      }
    },
    {
      "cell_type": "code",
      "source": [
        "s = \"\"\"{\n",
        "  \"firstName\": \"John\",\n",
        "  \"lastName\": \"Smith\",\n",
        "  \"isAlive\": true,\n",
        "  \"age\": 27,\n",
        "  \"address\": {\n",
        "    \"streetAddress\": \"21 2nd Street\",\n",
        "    \"city\": \"New York\",\n",
        "    \"state\": \"NY\",\n",
        "    \"postalCode\": \"10021-3100\"\n",
        "  },\n",
        "  \"phoneNumbers\": [\n",
        "    {\n",
        "      \"type\": \"home\",\n",
        "      \"number\": \"212 555-1234\"\n",
        "    },\n",
        "    {\n",
        "      \"type\": \"office\",\n",
        "      \"number\": \"646 555-4567\"\n",
        "    }\n",
        "  ],\n",
        "  \"children\": [\n",
        "      \"Catherine\",\n",
        "      \"Thomas\",\n",
        "      \"Trevor\"\n",
        "  ],\n",
        "  \"spouse\": null\n",
        "}\"\"\""
      ],
      "metadata": {
        "id": "3h53YNgHiwlh"
      },
      "execution_count": null,
      "outputs": []
    },
    {
      "cell_type": "code",
      "source": [
        "import json"
      ],
      "metadata": {
        "id": "QM_AvaNPi11c"
      },
      "execution_count": null,
      "outputs": []
    },
    {
      "cell_type": "code",
      "source": [
        "data = json.loads(s)"
      ],
      "metadata": {
        "id": "r6SG1W17i90s"
      },
      "execution_count": null,
      "outputs": []
    },
    {
      "cell_type": "code",
      "source": [
        "data['phoneNumbers'][0]['number']"
      ],
      "metadata": {
        "colab": {
          "base_uri": "https://localhost:8080/",
          "height": 35
        },
        "id": "lUDnrTSNi6-1",
        "outputId": "0d860841-fda6-45f3-d7a9-06e2cc7ee1f1"
      },
      "execution_count": null,
      "outputs": [
        {
          "output_type": "execute_result",
          "data": {
            "text/plain": [
              "'212 555-1234'"
            ],
            "application/vnd.google.colaboratory.intrinsic+json": {
              "type": "string"
            }
          },
          "metadata": {},
          "execution_count": 59
        }
      ]
    }
  ]
}