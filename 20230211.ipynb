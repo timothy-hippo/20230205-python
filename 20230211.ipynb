{
  "nbformat": 4,
  "nbformat_minor": 0,
  "metadata": {
    "colab": {
      "provenance": [],
      "toc_visible": true,
      "authorship_tag": "ABX9TyMV9MUqk88fb7+T3rxUCUYw",
      "include_colab_link": true
    },
    "kernelspec": {
      "name": "python3",
      "display_name": "Python 3"
    },
    "language_info": {
      "name": "python"
    }
  },
  "cells": [
    {
      "cell_type": "markdown",
      "metadata": {
        "id": "view-in-github",
        "colab_type": "text"
      },
      "source": [
        "<a href=\"https://colab.research.google.com/github/timothy-hippo/20230205-python/blob/main/20230211.ipynb\" target=\"_parent\"><img src=\"https://colab.research.google.com/assets/colab-badge.svg\" alt=\"Open In Colab\"/></a>"
      ]
    },
    {
      "cell_type": "markdown",
      "source": [
        "# 20230211 筆記"
      ],
      "metadata": {
        "id": "cQpEmbgvMZhR"
      }
    },
    {
      "cell_type": "markdown",
      "source": [
        "# 基本資料型態\n",
        "\n",
        "* int (整數)\n",
        "* float (浮點數)\n",
        "* bool (布林)\n",
        "* str (文字)\n",
        "\n",
        "使用`type(變數)`可以檢查變數裡面的資料型態"
      ],
      "metadata": {
        "id": "fXG_y9Q5UHIu"
      }
    },
    {
      "cell_type": "markdown",
      "source": [
        "## 除法\n",
        "運算子的除法為「/」\n",
        "出來的結果會自動轉成float的型態\n",
        "結果為整除時，也會自動在後面補上.0"
      ],
      "metadata": {
        "id": "zFJBw0HMU1JT"
      }
    },
    {
      "cell_type": "code",
      "source": [
        "y = 2/2\n",
        "type(y)"
      ],
      "metadata": {
        "colab": {
          "base_uri": "https://localhost:8080/"
        },
        "id": "feo77CPTV9r6",
        "outputId": "f193a3aa-cdc6-4204-dfd8-3cc06874e0d1"
      },
      "execution_count": 22,
      "outputs": [
        {
          "output_type": "stream",
          "name": "stdout",
          "text": [
            "1.0\n"
          ]
        }
      ]
    },
    {
      "cell_type": "markdown",
      "source": [
        "若要結果為int整數型態，則要用「//」"
      ],
      "metadata": {
        "id": "s4-CM0ZsXpCY"
      }
    },
    {
      "cell_type": "code",
      "source": [
        "y = 3//2\n",
        "type(y)"
      ],
      "metadata": {
        "colab": {
          "base_uri": "https://localhost:8080/"
        },
        "id": "EwTXxWm_YTJi",
        "outputId": "22e7ab30-6b62-493d-a472-5acfd3c85efd"
      },
      "execution_count": 25,
      "outputs": [
        {
          "output_type": "execute_result",
          "data": {
            "text/plain": [
              "1"
            ]
          },
          "metadata": {},
          "execution_count": 25
        }
      ]
    },
    {
      "cell_type": "markdown",
      "source": [
        "## 次方\n"
      ],
      "metadata": {
        "id": "nt26dO9vbJVU"
      }
    },
    {
      "cell_type": "code",
      "source": [
        "3 ** 2"
      ],
      "metadata": {
        "colab": {
          "base_uri": "https://localhost:8080/"
        },
        "id": "taqUD-bgbNnI",
        "outputId": "0c843f0e-fb83-4542-f0cb-0ace914505dd"
      },
      "execution_count": 33,
      "outputs": [
        {
          "output_type": "execute_result",
          "data": {
            "text/plain": [
              "9"
            ]
          },
          "metadata": {},
          "execution_count": 33
        }
      ]
    },
    {
      "cell_type": "markdown",
      "source": [
        "## bool 布林\n",
        "\n",
        "bool只會回傳True、False兩種結果\n",
        "\n",
        "但布林相加時，會自動將True轉成1、Flase轉成0相加\n",
        "\n"
      ],
      "metadata": {
        "id": "eYjEsnkBYg6h"
      }
    },
    {
      "cell_type": "code",
      "source": [
        "3 > 2"
      ],
      "metadata": {
        "colab": {
          "base_uri": "https://localhost:8080/"
        },
        "id": "qywBr2x_bDI6",
        "outputId": "6bf88505-2a6d-4599-d38e-fbc887b2f93b"
      },
      "execution_count": 32,
      "outputs": [
        {
          "output_type": "execute_result",
          "data": {
            "text/plain": [
              "True"
            ]
          },
          "metadata": {},
          "execution_count": 32
        }
      ]
    },
    {
      "cell_type": "code",
      "source": [
        "True + True"
      ],
      "metadata": {
        "colab": {
          "base_uri": "https://localhost:8080/"
        },
        "id": "50d03r_VY8ww",
        "outputId": "6db64fc4-e1a1-4bc1-d692-1f8ab160dfe1"
      },
      "execution_count": 26,
      "outputs": [
        {
          "output_type": "execute_result",
          "data": {
            "text/plain": [
              "2"
            ]
          },
          "metadata": {},
          "execution_count": 26
        }
      ]
    },
    {
      "cell_type": "code",
      "source": [
        "True + False"
      ],
      "metadata": {
        "colab": {
          "base_uri": "https://localhost:8080/"
        },
        "id": "40Cb6HG3ZYEe",
        "outputId": "2f2eac45-2397-4d08-da73-a7f51bd2c8bd"
      },
      "execution_count": 28,
      "outputs": [
        {
          "output_type": "execute_result",
          "data": {
            "text/plain": [
              "1"
            ]
          },
          "metadata": {},
          "execution_count": 28
        }
      ]
    },
    {
      "cell_type": "markdown",
      "source": [
        "## 字串\n"
      ],
      "metadata": {
        "id": "kGkTyonWZhpO"
      }
    },
    {
      "cell_type": "code",
      "source": [
        "# 跳脫字元\n",
        "w = 'It\\'s my dog'\n",
        "w"
      ],
      "metadata": {
        "colab": {
          "base_uri": "https://localhost:8080/",
          "height": 35
        },
        "id": "4VJgOhz0Zoxj",
        "outputId": "1f27b14e-2b1c-48b0-9bca-351054a0d60d"
      },
      "execution_count": 31,
      "outputs": [
        {
          "output_type": "execute_result",
          "data": {
            "text/plain": [
              "\"It's my dog\""
            ],
            "application/vnd.google.colaboratory.intrinsic+json": {
              "type": "string"
            }
          },
          "metadata": {},
          "execution_count": 31
        }
      ]
    },
    {
      "cell_type": "markdown",
      "source": [
        "## 字串的加法(+)與乘法(*)"
      ],
      "metadata": {
        "id": "apnvMQy3fTk2"
      }
    },
    {
      "cell_type": "code",
      "source": [
        "'abc' + '3'"
      ],
      "metadata": {
        "colab": {
          "base_uri": "https://localhost:8080/",
          "height": 35
        },
        "id": "6N7Yiy-qfhuo",
        "outputId": "0440b9b7-633f-4662-d98f-94d238bb5e72"
      },
      "execution_count": 34,
      "outputs": [
        {
          "output_type": "execute_result",
          "data": {
            "text/plain": [
              "'abc3'"
            ],
            "application/vnd.google.colaboratory.intrinsic+json": {
              "type": "string"
            }
          },
          "metadata": {},
          "execution_count": 34
        }
      ]
    },
    {
      "cell_type": "code",
      "source": [
        "'abc' * 3"
      ],
      "metadata": {
        "colab": {
          "base_uri": "https://localhost:8080/",
          "height": 35
        },
        "id": "kLpEWVT5frdh",
        "outputId": "86d8c429-75e7-4dc2-d82f-571cae41b295"
      },
      "execution_count": 35,
      "outputs": [
        {
          "output_type": "execute_result",
          "data": {
            "text/plain": [
              "'abcabcabc'"
            ],
            "application/vnd.google.colaboratory.intrinsic+json": {
              "type": "string"
            }
          },
          "metadata": {},
          "execution_count": 35
        }
      ]
    },
    {
      "cell_type": "code",
      "source": [
        "# 畫出金字塔\n",
        "for i in range(5):\n",
        "  print(' ' * (5 - i) + '*' * ((i + 1) * 2 - 1))"
      ],
      "metadata": {
        "colab": {
          "base_uri": "https://localhost:8080/"
        },
        "id": "GuuJqnwZf0HV",
        "outputId": "3a3ce007-7ff4-49de-8cc5-5d9022fb2e9c"
      },
      "execution_count": 58,
      "outputs": [
        {
          "output_type": "stream",
          "name": "stdout",
          "text": [
            "     *\n",
            "    ***\n",
            "   *****\n",
            "  *******\n",
            " *********\n"
          ]
        }
      ]
    },
    {
      "cell_type": "markdown",
      "source": [
        "# input() 及 print()\n",
        "input(): 用來讀取輸入\n",
        "\n",
        "print(): 用來打印輸出\n",
        "\n",
        "輸入進去的值，資料型態會為str"
      ],
      "metadata": {
        "id": "DwnQ1wVGkw2H"
      }
    },
    {
      "cell_type": "code",
      "source": [
        "x = input('請輸入一個數字')"
      ],
      "metadata": {
        "colab": {
          "base_uri": "https://localhost:8080/"
        },
        "id": "ZSNz8Jeak47o",
        "outputId": "08a14129-6c2f-429b-8e74-f680e4771a1c"
      },
      "execution_count": 65,
      "outputs": [
        {
          "name": "stdout",
          "output_type": "stream",
          "text": [
            "請輸入一個數字1\n"
          ]
        }
      ]
    },
    {
      "cell_type": "code",
      "source": [
        "print(1, 2, 3, sep='|')"
      ],
      "metadata": {
        "colab": {
          "base_uri": "https://localhost:8080/"
        },
        "id": "UyJoKw5ml5TA",
        "outputId": "6ef27e14-ef86-42a2-eda4-9cccc8a5cbf4"
      },
      "execution_count": 67,
      "outputs": [
        {
          "output_type": "stream",
          "name": "stdout",
          "text": [
            "1|2|3\n"
          ]
        }
      ]
    },
    {
      "cell_type": "code",
      "source": [
        "x = 1\n",
        "y = 2\n",
        "print('x{}'.format(x))"
      ],
      "metadata": {
        "colab": {
          "base_uri": "https://localhost:8080/"
        },
        "id": "8HaOQyp7mRcZ",
        "outputId": "c2740507-d0b0-4c30-b982-fb3838582302"
      },
      "execution_count": 68,
      "outputs": [
        {
          "output_type": "stream",
          "name": "stdout",
          "text": [
            "x1\n"
          ]
        }
      ]
    },
    {
      "cell_type": "markdown",
      "source": [
        "# 基礎容器行別\n",
        "\n",
        "* list (列表)\n",
        "* tuple (元組)\n",
        "* dict (字典)\n",
        "* set (集合)"
      ],
      "metadata": {
        "id": "N_rmM2d4nukZ"
      }
    },
    {
      "cell_type": "markdown",
      "source": [
        "## list(列表)"
      ],
      "metadata": {
        "id": "HXuuhlmp40s0"
      }
    },
    {
      "cell_type": "code",
      "source": [
        "x = ['a', 'b', 'c', 'd', 'e']"
      ],
      "metadata": {
        "id": "IXMJACVj4x-f"
      },
      "execution_count": 69,
      "outputs": []
    },
    {
      "cell_type": "markdown",
      "source": [
        "### 從網址中切分檔案名稱"
      ],
      "metadata": {
        "id": "H-0OEy_n7I1e"
      }
    },
    {
      "cell_type": "code",
      "source": [
        "url = \"https://cc.tvbs.com.tw/img/upload/2022/04/23/20220423120702-606bb9e8.jpg\""
      ],
      "metadata": {
        "id": "J1Zy-MBQ5Ggd"
      },
      "execution_count": 76,
      "outputs": []
    },
    {
      "cell_type": "code",
      "source": [
        "# 方法後面加上?，執行後會顯示使用說明\n",
        "url.split?"
      ],
      "metadata": {
        "id": "iH5svJf47aro"
      },
      "execution_count": 80,
      "outputs": []
    },
    {
      "cell_type": "code",
      "source": [
        "url.split('/')[-1]"
      ],
      "metadata": {
        "colab": {
          "base_uri": "https://localhost:8080/",
          "height": 35
        },
        "id": "D5QcjZUW6Gxm",
        "outputId": "69b5540c-e89a-48b4-9e54-9bef26ce5f19"
      },
      "execution_count": 79,
      "outputs": [
        {
          "output_type": "execute_result",
          "data": {
            "text/plain": [
              "'20220423120702-606bb9e8.jpg'"
            ],
            "application/vnd.google.colaboratory.intrinsic+json": {
              "type": "string"
            }
          },
          "metadata": {},
          "execution_count": 79
        }
      ]
    },
    {
      "cell_type": "markdown",
      "source": [
        "### 取得list中前幾個或後幾個item"
      ],
      "metadata": {
        "id": "4mokCwyW75a9"
      }
    },
    {
      "cell_type": "code",
      "source": [
        "# 前三筆資料\n",
        "print(x[:3])\n",
        "\n",
        "# 後三筆資料\n",
        "print(x[3:])"
      ],
      "metadata": {
        "colab": {
          "base_uri": "https://localhost:8080/"
        },
        "id": "5t40wlKz8ECR",
        "outputId": "bf0f36ad-732a-4006-ea70-d793bbede601"
      },
      "execution_count": 84,
      "outputs": [
        {
          "output_type": "stream",
          "name": "stdout",
          "text": [
            "['a', 'b', 'c']\n",
            "['d', 'e']\n"
          ]
        }
      ]
    },
    {
      "cell_type": "markdown",
      "source": [
        "## dist(字典)"
      ],
      "metadata": {
        "id": "VM1V9pPH8U0W"
      }
    },
    {
      "cell_type": "code",
      "source": [
        "d = {}"
      ],
      "metadata": {
        "id": "EZl-M3b28qTg"
      },
      "execution_count": 85,
      "outputs": []
    },
    {
      "cell_type": "code",
      "source": [
        "d['cat'] = '貓'"
      ],
      "metadata": {
        "id": "bSPprYQA80dm"
      },
      "execution_count": 86,
      "outputs": []
    },
    {
      "cell_type": "code",
      "source": [
        "d"
      ],
      "metadata": {
        "colab": {
          "base_uri": "https://localhost:8080/"
        },
        "id": "kRVZH5I98-aX",
        "outputId": "3ddbfd40-e7c9-418e-c0e7-8d1075f5bdb7"
      },
      "execution_count": 87,
      "outputs": [
        {
          "output_type": "execute_result",
          "data": {
            "text/plain": [
              "{'cat': '貓'}"
            ]
          },
          "metadata": {},
          "execution_count": 87
        }
      ]
    },
    {
      "cell_type": "code",
      "source": [
        "d['dog'] = '狗'"
      ],
      "metadata": {
        "id": "mbxlI-pY9XGJ"
      },
      "execution_count": 88,
      "outputs": []
    },
    {
      "cell_type": "code",
      "source": [
        "# 查詢資料\n",
        "d['cat']"
      ],
      "metadata": {
        "colab": {
          "base_uri": "https://localhost:8080/",
          "height": 35
        },
        "id": "1hZh3YZA9cST",
        "outputId": "5b5a9a09-a83a-4989-895c-c4aa6a0d1fd5"
      },
      "execution_count": 90,
      "outputs": [
        {
          "output_type": "execute_result",
          "data": {
            "text/plain": [
              "'貓'"
            ],
            "application/vnd.google.colaboratory.intrinsic+json": {
              "type": "string"
            }
          },
          "metadata": {},
          "execution_count": 90
        }
      ]
    },
    {
      "cell_type": "markdown",
      "source": [
        "## for迴圈與list及dict的合用"
      ],
      "metadata": {
        "id": "VfpxdJxs_LOz"
      }
    },
    {
      "cell_type": "code",
      "source": [
        "# for & list\n",
        "for i in x:\n",
        "  print(i)"
      ],
      "metadata": {
        "colab": {
          "base_uri": "https://localhost:8080/"
        },
        "id": "Rsdqu3nT9zQD",
        "outputId": "bc05e63c-82cc-4bbe-bb7f-e2073fd3f5e5"
      },
      "execution_count": 91,
      "outputs": [
        {
          "output_type": "stream",
          "name": "stdout",
          "text": [
            "a\n",
            "b\n",
            "c\n",
            "d\n",
            "e\n"
          ]
        }
      ]
    },
    {
      "cell_type": "code",
      "source": [
        "# for & dict\n",
        "for i in d:\n",
        "  print('{}-{}'.format(i, d[i]))"
      ],
      "metadata": {
        "colab": {
          "base_uri": "https://localhost:8080/"
        },
        "id": "tjraQKnv_XQa",
        "outputId": "3b1ad603-2918-472d-f618-ba370e124299"
      },
      "execution_count": 95,
      "outputs": [
        {
          "output_type": "stream",
          "name": "stdout",
          "text": [
            "cat-貓\n",
            "dog-狗\n"
          ]
        }
      ]
    },
    {
      "cell_type": "markdown",
      "source": [
        "# 爬蟲\n",
        "使用requests抓取網路資料"
      ],
      "metadata": {
        "id": "wnXUifCZL9BE"
      }
    },
    {
      "cell_type": "code",
      "source": [
        "url = \"https://victorgau.github.io/khpy_web_intro/html_only.html\""
      ],
      "metadata": {
        "id": "cgyLF5DPMBFR"
      },
      "execution_count": 120,
      "outputs": []
    },
    {
      "cell_type": "code",
      "source": [
        "# 載入requests，用來抓取網路上的資料\n",
        "import requests"
      ],
      "metadata": {
        "id": "W-WU5OnxNbWE"
      },
      "execution_count": 122,
      "outputs": []
    },
    {
      "cell_type": "code",
      "source": [
        "# 取得特定網址的網頁原始碼，並將回傳的內容(包含headers)放入變數r\n",
        "r = requests.get(url)\n",
        "\n",
        "# 印出回傳值中的.text的部分 (即網頁原始碼)\n",
        "print(r.text)"
      ],
      "metadata": {
        "colab": {
          "base_uri": "https://localhost:8080/"
        },
        "id": "SEHOD2_0NghF",
        "outputId": "80365777-3e34-4419-d4c7-f7d094570947"
      },
      "execution_count": 123,
      "outputs": [
        {
          "output_type": "stream",
          "name": "stdout",
          "text": [
            "<!DOCTYPE html>\n",
            "<html>\n",
            "<head>\n",
            "    <title>HTML範例</title>\n",
            "</head>\n",
            "<body>\n",
            "\n",
            "<h1>哈囉！HTML！</h1>\n",
            "\n",
            "<img src=\"ninja.jpg\" />\n",
            "\n",
            "</body>\n",
            "</html>\n"
          ]
        }
      ]
    },
    {
      "cell_type": "markdown",
      "source": [
        "## 使用requests呼叫web API，寫一個中文字典\n",
        "\n",
        "萌典API\n",
        "\n",
        "https://github.com/g0v/moedict-webkit\n",
        "\n",
        "API是一個提供給應用程式(Application)使用程式(Program)來存取特定服務的介面(Interface)。\n",
        "\n"
      ],
      "metadata": {
        "id": "Hi0HhgzdPOwT"
      }
    },
    {
      "cell_type": "markdown",
      "source": [
        "### 方法一\n",
        "\n",
        "透過json.loads()解析資料\n",
        "```python\n",
        "data = json.loads(r.text)\n",
        "```"
      ],
      "metadata": {
        "id": "h3VUMVOIQzJA"
      }
    },
    {
      "cell_type": "code",
      "source": [
        "import json"
      ],
      "metadata": {
        "id": "E0GjPQH_RMva"
      },
      "execution_count": 129,
      "outputs": []
    },
    {
      "cell_type": "markdown",
      "source": [
        "#### 抓取資料"
      ],
      "metadata": {
        "id": "ZfmXuAYGUxqG"
      }
    },
    {
      "cell_type": "code",
      "source": [
        "q = '老師'"
      ],
      "metadata": {
        "id": "UGIgDcTcRCZB"
      },
      "execution_count": 162,
      "outputs": []
    },
    {
      "cell_type": "code",
      "source": [
        "url = 'https://www.moedict.tw/uni/'"
      ],
      "metadata": {
        "id": "T_-NW3joRFhJ"
      },
      "execution_count": 163,
      "outputs": []
    },
    {
      "cell_type": "code",
      "source": [
        "r = requests.get(url + q)"
      ],
      "metadata": {
        "id": "6BFFJdfJPN2J"
      },
      "execution_count": 165,
      "outputs": []
    },
    {
      "cell_type": "markdown",
      "source": [
        "#### 剖析資料"
      ],
      "metadata": {
        "id": "LStgtvNrUt-F"
      }
    },
    {
      "cell_type": "code",
      "source": [
        "data = json.loads(r.text)"
      ],
      "metadata": {
        "id": "GVQ5iwQURiZ8"
      },
      "execution_count": 167,
      "outputs": []
    },
    {
      "cell_type": "code",
      "source": [
        "data['heteronyms'][0]"
      ],
      "metadata": {
        "colab": {
          "base_uri": "https://localhost:8080/"
        },
        "id": "UV5etoqXRqSL",
        "outputId": "a4919c6a-e1a0-4aae-d9e0-a823bd93ae14"
      },
      "execution_count": 168,
      "outputs": [
        {
          "output_type": "execute_result",
          "data": {
            "text/plain": [
              "{'bopomofo': 'ㄌㄠˇ ㄕ',\n",
              " 'bopomofo2': 'lǎu shr̄',\n",
              " 'definitions': [{'antonyms': '學生',\n",
              "   'def': '對傳授道業、學問或技藝者的尊稱。',\n",
              "   'synonyms': '教師'},\n",
              "  {'def': '學生對先生的尊稱。', 'synonyms': '先生,師長'},\n",
              "  {'def': '科舉時代門生對座主的稱呼。', 'synonyms': '先生,師長'}],\n",
              " 'pinyin': 'lǎo shī'}"
            ]
          },
          "metadata": {},
          "execution_count": 168
        }
      ]
    },
    {
      "cell_type": "markdown",
      "source": [
        "### 方法二\n",
        "\n",
        "透過requests內建的json()解析資料\n",
        "```python\n",
        "data = requests.get(url).json()\n",
        "```"
      ],
      "metadata": {
        "id": "mSULokHuZ1GF"
      }
    },
    {
      "cell_type": "code",
      "source": [
        "def getData(q) :\n",
        "  url = 'https://www.moedict.tw/uni/' + q\n",
        "  r = requests.get(url)\n",
        "  data = r.json()\n",
        "  return data['heteronyms'][0]['definitions']"
      ],
      "metadata": {
        "id": "69kvvyDVWUTg"
      },
      "execution_count": 187,
      "outputs": []
    },
    {
      "cell_type": "code",
      "source": [
        "getData('樹木')"
      ],
      "metadata": {
        "colab": {
          "base_uri": "https://localhost:8080/"
        },
        "id": "DBQKBC_SWxcU",
        "outputId": "f44404a6-168e-439f-c279-1e2acf11d3a7"
      },
      "execution_count": 188,
      "outputs": [
        {
          "output_type": "execute_result",
          "data": {
            "text/plain": [
              "[{'def': '木本植物的通稱。', 'example': ['如：「請勿濫伐樹木。」']},\n",
              " {'def': '種植樹木。',\n",
              "  'quote': ['管子．權修：「十年之計，莫如樹木；終身之計，莫如樹人。」', '儒林外史．第四十九回：「樹木譬如名節，非素修弗能成。」']}]"
            ]
          },
          "metadata": {},
          "execution_count": 188
        }
      ]
    },
    {
      "cell_type": "markdown",
      "source": [
        "## 讀取0050成分股"
      ],
      "metadata": {
        "id": "FS--A_pRcmIr"
      }
    },
    {
      "cell_type": "code",
      "source": [
        "url = 'https://www.yuantaetfs.com/api/StkWeights?date=&fundid=1066'\n",
        "r = requests.get(url).json()\n",
        "for i in r:\n",
        "  print('公司名稱: {}'.format(i['name']))\n",
        "  print('股票代號: {}'.format(i['code']))\n",
        "  print('-------')"
      ],
      "metadata": {
        "colab": {
          "base_uri": "https://localhost:8080/"
        },
        "id": "WL-OTfaJd8TT",
        "outputId": "ec849066-7b9e-4749-df1d-bd5f9758f4f8"
      },
      "execution_count": 197,
      "outputs": [
        {
          "output_type": "stream",
          "name": "stdout",
          "text": [
            "公司名稱: 台積電\n",
            "股票代號: 2330\n",
            "-------\n",
            "公司名稱: 鴻海\n",
            "股票代號: 2317\n",
            "-------\n",
            "公司名稱: 聯發科\n",
            "股票代號: 2454\n",
            "-------\n",
            "公司名稱: 台達電\n",
            "股票代號: 2308\n",
            "-------\n",
            "公司名稱: 聯電\n",
            "股票代號: 2303\n",
            "-------\n",
            "公司名稱: 富邦金\n",
            "股票代號: 2881\n",
            "-------\n",
            "公司名稱: 中華電\n",
            "股票代號: 2412\n",
            "-------\n",
            "公司名稱: 南亞\n",
            "股票代號: 1303\n",
            "-------\n",
            "公司名稱: 中信金\n",
            "股票代號: 2891\n",
            "-------\n",
            "公司名稱: 中鋼\n",
            "股票代號: 2002\n",
            "-------\n",
            "公司名稱: 國泰金\n",
            "股票代號: 2882\n",
            "-------\n",
            "公司名稱: 兆豐金\n",
            "股票代號: 2886\n",
            "-------\n",
            "公司名稱: 日月光投控\n",
            "股票代號: 3711\n",
            "-------\n",
            "公司名稱: 玉山金\n",
            "股票代號: 2884\n",
            "-------\n",
            "公司名稱: 台塑\n",
            "股票代號: 1301\n",
            "-------\n",
            "公司名稱: 中租-KY\n",
            "股票代號: 5871\n",
            "-------\n",
            "公司名稱: 統一\n",
            "股票代號: 1216\n",
            "-------\n",
            "公司名稱: 第一金\n",
            "股票代號: 2892\n",
            "-------\n",
            "公司名稱: 元大金\n",
            "股票代號: 2885\n",
            "-------\n",
            "公司名稱: 合庫金\n",
            "股票代號: 5880\n",
            "-------\n",
            "公司名稱: 台化\n",
            "股票代號: 1326\n",
            "-------\n",
            "公司名稱: 台泥\n",
            "股票代號: 1101\n",
            "-------\n",
            "公司名稱: 大立光\n",
            "股票代號: 3008\n",
            "-------\n",
            "公司名稱: 華南金\n",
            "股票代號: 2880\n",
            "-------\n",
            "公司名稱: 聯詠\n",
            "股票代號: 3034\n",
            "-------\n",
            "公司名稱: 廣達\n",
            "股票代號: 2382\n",
            "-------\n",
            "公司名稱: 矽力*-KY\n",
            "股票代號: 6415\n",
            "-------\n",
            "公司名稱: 開發金\n",
            "股票代號: 2883\n",
            "-------\n",
            "公司名稱: 國巨\n",
            "股票代號: 2327\n",
            "-------\n",
            "公司名稱: 和泰車\n",
            "股票代號: 2207\n",
            "-------\n",
            "公司名稱: 華碩\n",
            "股票代號: 2357\n",
            "-------\n",
            "公司名稱: 台新金\n",
            "股票代號: 2887\n",
            "-------\n",
            "公司名稱: 永豐金\n",
            "股票代號: 2890\n",
            "-------\n",
            "公司名稱: 亞德客-KY\n",
            "股票代號: 1590\n",
            "-------\n",
            "公司名稱: 瑞昱\n",
            "股票代號: 2379\n",
            "-------\n",
            "公司名稱: 台灣大\n",
            "股票代號: 3045\n",
            "-------\n",
            "公司名稱: 上海商銀\n",
            "股票代號: 5876\n",
            "-------\n",
            "公司名稱: 欣興\n",
            "股票代號: 3037\n",
            "-------\n",
            "公司名稱: 統一超\n",
            "股票代號: 2912\n",
            "-------\n",
            "公司名稱: 研華\n",
            "股票代號: 2395\n",
            "-------\n",
            "公司名稱: 長榮\n",
            "股票代號: 2603\n",
            "-------\n",
            "公司名稱: 遠東新\n",
            "股票代號: 1402\n",
            "-------\n",
            "公司名稱: 彰銀\n",
            "股票代號: 2801\n",
            "-------\n",
            "公司名稱: 台塑化\n",
            "股票代號: 6505\n",
            "-------\n",
            "公司名稱: 遠傳\n",
            "股票代號: 4904\n",
            "-------\n",
            "公司名稱: 萬海\n",
            "股票代號: 2615\n",
            "-------\n",
            "公司名稱: 陽明\n",
            "股票代號: 2609\n",
            "-------\n",
            "公司名稱: 豐泰\n",
            "股票代號: 9910\n",
            "-------\n",
            "公司名稱: 南電\n",
            "股票代號: 8046\n",
            "-------\n",
            "公司名稱: 南亞科\n",
            "股票代號: 2408\n",
            "-------\n"
          ]
        }
      ]
    }
  ]
}