{
  "nbformat": 4,
  "nbformat_minor": 0,
  "metadata": {
    "colab": {
      "provenance": [],
      "toc_visible": true,
      "authorship_tag": "ABX9TyOZSsSOdUvfnqWkEIBX6+ea",
      "include_colab_link": true
    },
    "kernelspec": {
      "name": "python3",
      "display_name": "Python 3"
    },
    "language_info": {
      "name": "python"
    }
  },
  "cells": [
    {
      "cell_type": "markdown",
      "metadata": {
        "id": "view-in-github",
        "colab_type": "text"
      },
      "source": [
        "<a href=\"https://colab.research.google.com/github/timothy-hippo/20230205-python/blob/main/20230211.ipynb\" target=\"_parent\"><img src=\"https://colab.research.google.com/assets/colab-badge.svg\" alt=\"Open In Colab\"/></a>"
      ]
    },
    {
      "cell_type": "markdown",
      "source": [
        "# 20230211 筆記"
      ],
      "metadata": {
        "id": "cQpEmbgvMZhR"
      }
    },
    {
      "cell_type": "markdown",
      "source": [
        "# 基本資料型態\n",
        "\n",
        "* int (整數)\n",
        "* float (浮點數)\n",
        "* bool (布林)\n",
        "* str (文字)\n",
        "\n",
        "使用`type(變數)`可以檢查變數裡面的資料型態"
      ],
      "metadata": {
        "id": "fXG_y9Q5UHIu"
      }
    },
    {
      "cell_type": "markdown",
      "source": [
        "## 除法\n",
        "運算子的除法為「/」\n",
        "出來的結果會自動轉成float的型態\n",
        "結果為整除時，也會自動在後面補上.0"
      ],
      "metadata": {
        "id": "zFJBw0HMU1JT"
      }
    },
    {
      "cell_type": "code",
      "source": [
        "y = 2/2\n",
        "type(y)"
      ],
      "metadata": {
        "colab": {
          "base_uri": "https://localhost:8080/"
        },
        "id": "feo77CPTV9r6",
        "outputId": "f193a3aa-cdc6-4204-dfd8-3cc06874e0d1"
      },
      "execution_count": 22,
      "outputs": [
        {
          "output_type": "stream",
          "name": "stdout",
          "text": [
            "1.0\n"
          ]
        }
      ]
    },
    {
      "cell_type": "markdown",
      "source": [
        "若要結果為int整數型態，則要用「//」"
      ],
      "metadata": {
        "id": "s4-CM0ZsXpCY"
      }
    },
    {
      "cell_type": "code",
      "source": [
        "y = 3//2\n",
        "type(y)"
      ],
      "metadata": {
        "colab": {
          "base_uri": "https://localhost:8080/"
        },
        "id": "EwTXxWm_YTJi",
        "outputId": "22e7ab30-6b62-493d-a472-5acfd3c85efd"
      },
      "execution_count": 25,
      "outputs": [
        {
          "output_type": "execute_result",
          "data": {
            "text/plain": [
              "1"
            ]
          },
          "metadata": {},
          "execution_count": 25
        }
      ]
    },
    {
      "cell_type": "markdown",
      "source": [
        "## bool 布林\n",
        "\n",
        "bool只會回傳True、False兩種結果\n",
        "\n",
        "但布林相加時，會自動將True轉成1、Flase轉成0相加\n",
        "\n"
      ],
      "metadata": {
        "id": "eYjEsnkBYg6h"
      }
    },
    {
      "cell_type": "code",
      "source": [
        "True + True"
      ],
      "metadata": {
        "colab": {
          "base_uri": "https://localhost:8080/"
        },
        "id": "50d03r_VY8ww",
        "outputId": "6db64fc4-e1a1-4bc1-d692-1f8ab160dfe1"
      },
      "execution_count": 26,
      "outputs": [
        {
          "output_type": "execute_result",
          "data": {
            "text/plain": [
              "2"
            ]
          },
          "metadata": {},
          "execution_count": 26
        }
      ]
    },
    {
      "cell_type": "code",
      "source": [
        "True + False"
      ],
      "metadata": {
        "colab": {
          "base_uri": "https://localhost:8080/"
        },
        "id": "40Cb6HG3ZYEe",
        "outputId": "2f2eac45-2397-4d08-da73-a7f51bd2c8bd"
      },
      "execution_count": 28,
      "outputs": [
        {
          "output_type": "execute_result",
          "data": {
            "text/plain": [
              "1"
            ]
          },
          "metadata": {},
          "execution_count": 28
        }
      ]
    },
    {
      "cell_type": "markdown",
      "source": [
        "## 字串\n"
      ],
      "metadata": {
        "id": "kGkTyonWZhpO"
      }
    },
    {
      "cell_type": "code",
      "source": [
        "# 跳脫字元\n",
        "w = 'It\\'s my dog'\n",
        "w"
      ],
      "metadata": {
        "colab": {
          "base_uri": "https://localhost:8080/",
          "height": 35
        },
        "id": "4VJgOhz0Zoxj",
        "outputId": "1f27b14e-2b1c-48b0-9bca-351054a0d60d"
      },
      "execution_count": 31,
      "outputs": [
        {
          "output_type": "execute_result",
          "data": {
            "text/plain": [
              "\"It's my dog\""
            ],
            "application/vnd.google.colaboratory.intrinsic+json": {
              "type": "string"
            }
          },
          "metadata": {},
          "execution_count": 31
        }
      ]
    }
  ]
}