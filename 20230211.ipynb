{
  "nbformat": 4,
  "nbformat_minor": 0,
  "metadata": {
    "colab": {
      "provenance": [],
      "toc_visible": true,
      "authorship_tag": "ABX9TyPFlKST5PEhZsKIhn361AR/",
      "include_colab_link": true
    },
    "kernelspec": {
      "name": "python3",
      "display_name": "Python 3"
    },
    "language_info": {
      "name": "python"
    }
  },
  "cells": [
    {
      "cell_type": "markdown",
      "metadata": {
        "id": "view-in-github",
        "colab_type": "text"
      },
      "source": [
        "<a href=\"https://colab.research.google.com/github/timothy-hippo/20230205-python/blob/main/20230211.ipynb\" target=\"_parent\"><img src=\"https://colab.research.google.com/assets/colab-badge.svg\" alt=\"Open In Colab\"/></a>"
      ]
    },
    {
      "cell_type": "markdown",
      "source": [
        "# 20230211 筆記"
      ],
      "metadata": {
        "id": "cQpEmbgvMZhR"
      }
    },
    {
      "cell_type": "markdown",
      "source": [
        "# 基本資料型態\n",
        "\n",
        "* int (整數)\n",
        "* float (浮點數)\n",
        "* bool (布林)\n",
        "* str (文字)\n",
        "\n",
        "使用`type(變數)`可以檢查變數裡面的資料型態"
      ],
      "metadata": {
        "id": "fXG_y9Q5UHIu"
      }
    },
    {
      "cell_type": "markdown",
      "source": [
        "## 除法\n",
        "運算子的除法為「/」\n",
        "出來的結果會自動轉成float的型態\n",
        "結果為整除時，也會自動在後面補上.0"
      ],
      "metadata": {
        "id": "zFJBw0HMU1JT"
      }
    },
    {
      "cell_type": "code",
      "source": [
        "y = 2/2\n",
        "type(y)"
      ],
      "metadata": {
        "colab": {
          "base_uri": "https://localhost:8080/"
        },
        "id": "feo77CPTV9r6",
        "outputId": "f193a3aa-cdc6-4204-dfd8-3cc06874e0d1"
      },
      "execution_count": 22,
      "outputs": [
        {
          "output_type": "stream",
          "name": "stdout",
          "text": [
            "1.0\n"
          ]
        }
      ]
    },
    {
      "cell_type": "markdown",
      "source": [
        "若要結果為int整數型態，則要用「//」"
      ],
      "metadata": {
        "id": "s4-CM0ZsXpCY"
      }
    },
    {
      "cell_type": "code",
      "source": [
        "y = 3//2\n",
        "type(y)"
      ],
      "metadata": {
        "colab": {
          "base_uri": "https://localhost:8080/"
        },
        "id": "EwTXxWm_YTJi",
        "outputId": "22e7ab30-6b62-493d-a472-5acfd3c85efd"
      },
      "execution_count": 25,
      "outputs": [
        {
          "output_type": "execute_result",
          "data": {
            "text/plain": [
              "1"
            ]
          },
          "metadata": {},
          "execution_count": 25
        }
      ]
    },
    {
      "cell_type": "markdown",
      "source": [
        "## 次方\n"
      ],
      "metadata": {
        "id": "nt26dO9vbJVU"
      }
    },
    {
      "cell_type": "code",
      "source": [
        "3 ** 2"
      ],
      "metadata": {
        "colab": {
          "base_uri": "https://localhost:8080/"
        },
        "id": "taqUD-bgbNnI",
        "outputId": "0c843f0e-fb83-4542-f0cb-0ace914505dd"
      },
      "execution_count": 33,
      "outputs": [
        {
          "output_type": "execute_result",
          "data": {
            "text/plain": [
              "9"
            ]
          },
          "metadata": {},
          "execution_count": 33
        }
      ]
    },
    {
      "cell_type": "markdown",
      "source": [
        "## bool 布林\n",
        "\n",
        "bool只會回傳True、False兩種結果\n",
        "\n",
        "但布林相加時，會自動將True轉成1、Flase轉成0相加\n",
        "\n"
      ],
      "metadata": {
        "id": "eYjEsnkBYg6h"
      }
    },
    {
      "cell_type": "code",
      "source": [
        "3 > 2"
      ],
      "metadata": {
        "colab": {
          "base_uri": "https://localhost:8080/"
        },
        "id": "qywBr2x_bDI6",
        "outputId": "6bf88505-2a6d-4599-d38e-fbc887b2f93b"
      },
      "execution_count": 32,
      "outputs": [
        {
          "output_type": "execute_result",
          "data": {
            "text/plain": [
              "True"
            ]
          },
          "metadata": {},
          "execution_count": 32
        }
      ]
    },
    {
      "cell_type": "code",
      "source": [
        "True + True"
      ],
      "metadata": {
        "colab": {
          "base_uri": "https://localhost:8080/"
        },
        "id": "50d03r_VY8ww",
        "outputId": "6db64fc4-e1a1-4bc1-d692-1f8ab160dfe1"
      },
      "execution_count": 26,
      "outputs": [
        {
          "output_type": "execute_result",
          "data": {
            "text/plain": [
              "2"
            ]
          },
          "metadata": {},
          "execution_count": 26
        }
      ]
    },
    {
      "cell_type": "code",
      "source": [
        "True + False"
      ],
      "metadata": {
        "colab": {
          "base_uri": "https://localhost:8080/"
        },
        "id": "40Cb6HG3ZYEe",
        "outputId": "2f2eac45-2397-4d08-da73-a7f51bd2c8bd"
      },
      "execution_count": 28,
      "outputs": [
        {
          "output_type": "execute_result",
          "data": {
            "text/plain": [
              "1"
            ]
          },
          "metadata": {},
          "execution_count": 28
        }
      ]
    },
    {
      "cell_type": "markdown",
      "source": [
        "## 字串\n"
      ],
      "metadata": {
        "id": "kGkTyonWZhpO"
      }
    },
    {
      "cell_type": "code",
      "source": [
        "# 跳脫字元\n",
        "w = 'It\\'s my dog'\n",
        "w"
      ],
      "metadata": {
        "colab": {
          "base_uri": "https://localhost:8080/",
          "height": 35
        },
        "id": "4VJgOhz0Zoxj",
        "outputId": "1f27b14e-2b1c-48b0-9bca-351054a0d60d"
      },
      "execution_count": 31,
      "outputs": [
        {
          "output_type": "execute_result",
          "data": {
            "text/plain": [
              "\"It's my dog\""
            ],
            "application/vnd.google.colaboratory.intrinsic+json": {
              "type": "string"
            }
          },
          "metadata": {},
          "execution_count": 31
        }
      ]
    },
    {
      "cell_type": "markdown",
      "source": [
        "## 字串的加法(+)與乘法(*)"
      ],
      "metadata": {
        "id": "apnvMQy3fTk2"
      }
    },
    {
      "cell_type": "code",
      "source": [
        "'abc' + '3'"
      ],
      "metadata": {
        "colab": {
          "base_uri": "https://localhost:8080/",
          "height": 35
        },
        "id": "6N7Yiy-qfhuo",
        "outputId": "0440b9b7-633f-4662-d98f-94d238bb5e72"
      },
      "execution_count": 34,
      "outputs": [
        {
          "output_type": "execute_result",
          "data": {
            "text/plain": [
              "'abc3'"
            ],
            "application/vnd.google.colaboratory.intrinsic+json": {
              "type": "string"
            }
          },
          "metadata": {},
          "execution_count": 34
        }
      ]
    },
    {
      "cell_type": "code",
      "source": [
        "'abc' * 3"
      ],
      "metadata": {
        "colab": {
          "base_uri": "https://localhost:8080/",
          "height": 35
        },
        "id": "kLpEWVT5frdh",
        "outputId": "86d8c429-75e7-4dc2-d82f-571cae41b295"
      },
      "execution_count": 35,
      "outputs": [
        {
          "output_type": "execute_result",
          "data": {
            "text/plain": [
              "'abcabcabc'"
            ],
            "application/vnd.google.colaboratory.intrinsic+json": {
              "type": "string"
            }
          },
          "metadata": {},
          "execution_count": 35
        }
      ]
    },
    {
      "cell_type": "code",
      "source": [
        "# 畫出金字塔\n",
        "for i in range(5):\n",
        "  print(' ' * (5 - i) + '*' * ((i + 1) * 2 - 1))"
      ],
      "metadata": {
        "colab": {
          "base_uri": "https://localhost:8080/"
        },
        "id": "GuuJqnwZf0HV",
        "outputId": "3a3ce007-7ff4-49de-8cc5-5d9022fb2e9c"
      },
      "execution_count": 58,
      "outputs": [
        {
          "output_type": "stream",
          "name": "stdout",
          "text": [
            "     *\n",
            "    ***\n",
            "   *****\n",
            "  *******\n",
            " *********\n"
          ]
        }
      ]
    },
    {
      "cell_type": "markdown",
      "source": [
        "# input() 及 print()\n",
        "input(): 用來讀取輸入\n",
        "\n",
        "print(): 用來打印輸出\n",
        "\n",
        "輸入進去的值，資料型態會為str"
      ],
      "metadata": {
        "id": "DwnQ1wVGkw2H"
      }
    },
    {
      "cell_type": "code",
      "source": [
        "x = input('請輸入一個數字')"
      ],
      "metadata": {
        "colab": {
          "base_uri": "https://localhost:8080/"
        },
        "id": "ZSNz8Jeak47o",
        "outputId": "08a14129-6c2f-429b-8e74-f680e4771a1c"
      },
      "execution_count": 65,
      "outputs": [
        {
          "name": "stdout",
          "output_type": "stream",
          "text": [
            "請輸入一個數字1\n"
          ]
        }
      ]
    },
    {
      "cell_type": "code",
      "source": [
        "print(1, 2, 3, sep='|')"
      ],
      "metadata": {
        "colab": {
          "base_uri": "https://localhost:8080/"
        },
        "id": "UyJoKw5ml5TA",
        "outputId": "6ef27e14-ef86-42a2-eda4-9cccc8a5cbf4"
      },
      "execution_count": 67,
      "outputs": [
        {
          "output_type": "stream",
          "name": "stdout",
          "text": [
            "1|2|3\n"
          ]
        }
      ]
    },
    {
      "cell_type": "code",
      "source": [
        "x = 1\n",
        "y = 2\n",
        "print('x{}'.format(x))"
      ],
      "metadata": {
        "colab": {
          "base_uri": "https://localhost:8080/"
        },
        "id": "8HaOQyp7mRcZ",
        "outputId": "c2740507-d0b0-4c30-b982-fb3838582302"
      },
      "execution_count": 68,
      "outputs": [
        {
          "output_type": "stream",
          "name": "stdout",
          "text": [
            "x1\n"
          ]
        }
      ]
    },
    {
      "cell_type": "markdown",
      "source": [
        "# 基礎容器行別\n",
        "\n",
        "* list(列表)\n",
        "* tuple (元組)\n",
        "* dict (字典)\n",
        "* set (集合)"
      ],
      "metadata": {
        "id": "N_rmM2d4nukZ"
      }
    },
    {
      "cell_type": "code",
      "source": [],
      "metadata": {
        "id": "d6xHBxssoNZd"
      },
      "execution_count": null,
      "outputs": []
    }
  ]
}