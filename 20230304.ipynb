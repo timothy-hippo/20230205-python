{
  "nbformat": 4,
  "nbformat_minor": 0,
  "metadata": {
    "colab": {
      "provenance": [],
      "toc_visible": true,
      "collapsed_sections": [
        "zHRQrnq6V05A",
        "WqLwKZQ7e97t",
        "7EusNCa1e4zc",
        "dhkYyS-8V5Tt",
        "LQEyEg03hwNc",
        "D96oSD7vh1cC",
        "oI-UZsDgk3xT",
        "ipVw8V0Vk7lK",
        "CahWLVzwnzRj",
        "4f7FM94WEwBq",
        "jwL-4JT4uNlI",
        "bq2o_r5DvAoZ",
        "hDNPLwlrvESA"
      ],
      "authorship_tag": "ABX9TyMw7xMXEbo3wfifh3G6D63Z",
      "include_colab_link": true
    },
    "kernelspec": {
      "name": "python3",
      "display_name": "Python 3"
    },
    "language_info": {
      "name": "python"
    }
  },
  "cells": [
    {
      "cell_type": "markdown",
      "metadata": {
        "id": "view-in-github",
        "colab_type": "text"
      },
      "source": [
        "<a href=\"https://colab.research.google.com/github/timothy-hippo/20230205-python/blob/main/20230304.ipynb\" target=\"_parent\"><img src=\"https://colab.research.google.com/assets/colab-badge.svg\" alt=\"Open In Colab\"/></a>"
      ]
    },
    {
      "cell_type": "markdown",
      "source": [
        "# 20230304筆記"
      ],
      "metadata": {
        "id": "QLCoIXe8ir6D"
      }
    },
    {
      "cell_type": "markdown",
      "source": [
        "## 抓取網頁原始碼"
      ],
      "metadata": {
        "id": "zHRQrnq6V05A"
      }
    },
    {
      "cell_type": "markdown",
      "source": [
        "從非Ajax網頁上抓取資料，可以直接看到資料"
      ],
      "metadata": {
        "id": "yt8FCPTTWvCP"
      }
    },
    {
      "cell_type": "markdown",
      "source": [
        "### 使用requests"
      ],
      "metadata": {
        "id": "WqLwKZQ7e97t"
      }
    },
    {
      "cell_type": "code",
      "execution_count": null,
      "metadata": {
        "id": "vzV_luyUHTuA"
      },
      "outputs": [],
      "source": [
        "import requests"
      ]
    },
    {
      "cell_type": "code",
      "source": [
        "url = 'https://victorgau.github.io/khpy_web_intro/spy.html'"
      ],
      "metadata": {
        "id": "mtQCaLgpU9oH"
      },
      "execution_count": null,
      "outputs": []
    },
    {
      "cell_type": "code",
      "source": [
        "r = requests.get(url)"
      ],
      "metadata": {
        "id": "XhuIZ-HcUZsO"
      },
      "execution_count": null,
      "outputs": []
    },
    {
      "cell_type": "code",
      "source": [
        "print(r.text)"
      ],
      "metadata": {
        "colab": {
          "base_uri": "https://localhost:8080/"
        },
        "id": "dNUN_KAsUhr-",
        "outputId": "eb0f1357-cffb-4984-a8c6-b4f199726fc6"
      },
      "execution_count": null,
      "outputs": [
        {
          "output_type": "stream",
          "name": "stdout",
          "text": [
            "<!DOCTYPE html>\n",
            "<html>\n",
            "<head>\n",
            "    <!-- Required meta tags -->\n",
            "    <meta charset=\"utf-8\">\n",
            "    <meta name=\"viewport\" content=\"width=device-width, initial-scale=1, shrink-to-fit=no\">\n",
            "\n",
            "    <!-- Bootstrap CSS -->\n",
            "    <link rel=\"stylesheet\" href=\"https://maxcdn.bootstrapcdn.com/bootstrap/4.0.0/css/bootstrap.min.css\" integrity=\"sha384-Gn5384xqQ1aoWXA+058RXPxPg6fy4IWvTNh0E263XmFcJlSAwiGgFAW/dAiS6JXm\" crossorigin=\"anonymous\">\n",
            "    <link rel=\"stylesheet\" href=\"https://cdn.jsdelivr.net/npm/bootstrap-icons@1.5.0/font/bootstrap-icons.css\">\n",
            "    <title>HTML範例</title>\n",
            "</head>\n",
            "<body>\n",
            "  <div class=\"container\">\n",
            "    <h1>SPY股價</h1>\n",
            "  </div>\n",
            "    <div class=\"container\">\n",
            "<table border=\"1\" class=\"dataframe table table-striped\">\n",
            "  <thead>\n",
            "    <tr style=\"text-align: right;\">\n",
            "      <th></th>\n",
            "      <th>Open</th>\n",
            "      <th>High</th>\n",
            "      <th>Low</th>\n",
            "      <th>Close</th>\n",
            "      <th>Adj Close</th>\n",
            "      <th>Volume</th>\n",
            "    </tr>\n",
            "    <tr>\n",
            "      <th>Date</th>\n",
            "      <th></th>\n",
            "      <th></th>\n",
            "      <th></th>\n",
            "      <th></th>\n",
            "      <th></th>\n",
            "      <th></th>\n",
            "    </tr>\n",
            "  </thead>\n",
            "  <tbody>\n",
            "    <tr>\n",
            "      <th>2021-07-26</th>\n",
            "      <td>439.309998</td>\n",
            "      <td>441.029999</td>\n",
            "      <td>439.260010</td>\n",
            "      <td>441.019989</td>\n",
            "      <td>441.019989</td>\n",
            "      <td>43719200</td>\n",
            "    </tr>\n",
            "    <tr>\n",
            "      <th>2021-07-27</th>\n",
            "      <td>439.910004</td>\n",
            "      <td>439.940002</td>\n",
            "      <td>435.989990</td>\n",
            "      <td>439.010010</td>\n",
            "      <td>439.010010</td>\n",
            "      <td>67397100</td>\n",
            "    </tr>\n",
            "    <tr>\n",
            "      <th>2021-07-28</th>\n",
            "      <td>439.679993</td>\n",
            "      <td>440.299988</td>\n",
            "      <td>437.309998</td>\n",
            "      <td>438.829987</td>\n",
            "      <td>438.829987</td>\n",
            "      <td>52472400</td>\n",
            "    </tr>\n",
            "    <tr>\n",
            "      <th>2021-07-29</th>\n",
            "      <td>439.820007</td>\n",
            "      <td>441.799988</td>\n",
            "      <td>439.809998</td>\n",
            "      <td>440.649994</td>\n",
            "      <td>440.649994</td>\n",
            "      <td>47435300</td>\n",
            "    </tr>\n",
            "    <tr>\n",
            "      <th>2021-07-30</th>\n",
            "      <td>437.910004</td>\n",
            "      <td>440.059998</td>\n",
            "      <td>437.769989</td>\n",
            "      <td>438.510010</td>\n",
            "      <td>438.510010</td>\n",
            "      <td>68890600</td>\n",
            "    </tr>\n",
            "    <tr>\n",
            "      <th>2021-08-02</th>\n",
            "      <td>440.339996</td>\n",
            "      <td>440.929993</td>\n",
            "      <td>437.209991</td>\n",
            "      <td>437.589996</td>\n",
            "      <td>437.589996</td>\n",
            "      <td>58783300</td>\n",
            "    </tr>\n",
            "    <tr>\n",
            "      <th>2021-08-03</th>\n",
            "      <td>438.440002</td>\n",
            "      <td>441.279999</td>\n",
            "      <td>436.100006</td>\n",
            "      <td>441.149994</td>\n",
            "      <td>441.149994</td>\n",
            "      <td>58053900</td>\n",
            "    </tr>\n",
            "    <tr>\n",
            "      <th>2021-08-04</th>\n",
            "      <td>439.779999</td>\n",
            "      <td>441.119995</td>\n",
            "      <td>438.730011</td>\n",
            "      <td>438.980011</td>\n",
            "      <td>438.980011</td>\n",
            "      <td>46732200</td>\n",
            "    </tr>\n",
            "    <tr>\n",
            "      <th>2021-08-05</th>\n",
            "      <td>440.220001</td>\n",
            "      <td>441.850006</td>\n",
            "      <td>439.880005</td>\n",
            "      <td>441.760010</td>\n",
            "      <td>441.760010</td>\n",
            "      <td>38969700</td>\n",
            "    </tr>\n",
            "    <tr>\n",
            "      <th>2021-08-06</th>\n",
            "      <td>442.100006</td>\n",
            "      <td>442.940002</td>\n",
            "      <td>441.799988</td>\n",
            "      <td>442.489990</td>\n",
            "      <td>442.489990</td>\n",
            "      <td>46864100</td>\n",
            "    </tr>\n",
            "  </tbody>\n",
            "</table>\n",
            "\n",
            "</div>\n",
            "</body>\n",
            "</html>\n"
          ]
        }
      ]
    },
    {
      "cell_type": "markdown",
      "source": [
        "### 使用Pandas"
      ],
      "metadata": {
        "id": "7EusNCa1e4zc"
      }
    },
    {
      "cell_type": "code",
      "source": [
        "import pandas as pd"
      ],
      "metadata": {
        "id": "rOeRKVgaZbOg"
      },
      "execution_count": null,
      "outputs": []
    },
    {
      "cell_type": "code",
      "source": [
        "# 回傳網頁中的Table的List，因此要讀第一筆Table要在後面加[0]\n",
        "df_list = pd.read_html(url)[0]['Close']"
      ],
      "metadata": {
        "id": "d4QD4HkgZfm0"
      },
      "execution_count": null,
      "outputs": []
    },
    {
      "cell_type": "code",
      "source": [
        "print(df_list)"
      ],
      "metadata": {
        "colab": {
          "base_uri": "https://localhost:8080/"
        },
        "id": "-P5hgSHmZ6gm",
        "outputId": "3f572037-0c24-419a-cc9d-5394a6c4b9d2"
      },
      "execution_count": null,
      "outputs": [
        {
          "output_type": "stream",
          "name": "stdout",
          "text": [
            "   Unnamed: 4_level_1\n",
            "0          441.019989\n",
            "1          439.010010\n",
            "2          438.829987\n",
            "3          440.649994\n",
            "4          438.510010\n",
            "5          437.589996\n",
            "6          441.149994\n",
            "7          438.980011\n",
            "8          441.760010\n",
            "9          442.489990\n"
          ]
        }
      ]
    },
    {
      "cell_type": "markdown",
      "source": [
        "## 抓取Ajax的網頁"
      ],
      "metadata": {
        "id": "dhkYyS-8V5Tt"
      }
    },
    {
      "cell_type": "markdown",
      "source": [
        "從Ajax網頁上抓取資料，無法直接看到資料"
      ],
      "metadata": {
        "id": "QMjKZPSPW6re"
      }
    },
    {
      "cell_type": "code",
      "source": [
        "url = 'https://victorgau.github.io/khpy_web_intro/spy_ajax.html'"
      ],
      "metadata": {
        "id": "ArISEVeQVq_M"
      },
      "execution_count": null,
      "outputs": []
    },
    {
      "cell_type": "code",
      "source": [
        "r = requests.get(url)"
      ],
      "metadata": {
        "id": "sp9VFQMIVuAe"
      },
      "execution_count": null,
      "outputs": []
    },
    {
      "cell_type": "code",
      "source": [
        "print(r.text)"
      ],
      "metadata": {
        "colab": {
          "base_uri": "https://localhost:8080/"
        },
        "id": "J2r1qDMkWi7c",
        "outputId": "84f661a9-b3af-4bb4-b063-6b7ddb92a93e"
      },
      "execution_count": null,
      "outputs": [
        {
          "output_type": "stream",
          "name": "stdout",
          "text": [
            "<!DOCTYPE html>\n",
            "<html>\n",
            "<head>\n",
            "    <!-- Required meta tags -->\n",
            "    <meta charset=\"utf-8\">\n",
            "    <meta name=\"viewport\" content=\"width=device-width, initial-scale=1, shrink-to-fit=no\">\n",
            "\n",
            "    <!-- Bootstrap CSS -->\n",
            "    <link rel=\"stylesheet\" href=\"https://maxcdn.bootstrapcdn.com/bootstrap/4.0.0/css/bootstrap.min.css\" integrity=\"sha384-Gn5384xqQ1aoWXA+058RXPxPg6fy4IWvTNh0E263XmFcJlSAwiGgFAW/dAiS6JXm\" crossorigin=\"anonymous\">\n",
            "    <link rel=\"stylesheet\" href=\"https://cdn.jsdelivr.net/npm/bootstrap-icons@1.5.0/font/bootstrap-icons.css\">\n",
            "    <script src=\"https://code.jquery.com/jquery-3.6.0.min.js\"></script>\n",
            "    <title>AJAX範例</title>\n",
            "</head>\n",
            "<body>\n",
            "  <div class=\"container\">\n",
            "    <h1>SPY股價</h1>\n",
            "  </div>\n",
            "  <div class=\"container\">\n",
            "    <table border=\"1\" class=\"dataframe table table-striped\">\n",
            "        <thead>\n",
            "          <tr style=\"text-align: right;\">\n",
            "            <th></th>\n",
            "            <th>Open</th>\n",
            "            <th>High</th>\n",
            "            <th>Low</th>\n",
            "            <th>Close</th>\n",
            "            <th>Adj Close</th>\n",
            "            <th>Volume</th>\n",
            "          </tr>\n",
            "          <tr>\n",
            "            <th>Date</th>\n",
            "            <th></th>\n",
            "            <th></th>\n",
            "            <th></th>\n",
            "            <th></th>\n",
            "            <th></th>\n",
            "            <th></th>\n",
            "          </tr>\n",
            "        </thead>\n",
            "        <tbody id=\"spy\">\n",
            "\n",
            "        </tbody>\n",
            "    </table>\n",
            "  </div>\n",
            "\n",
            "  <script type=\"text/javascript\">\n",
            "    $(document).ready(function(){\n",
            "        $.ajax({\n",
            "            url: \"spy.json\",\n",
            "            dataType: 'json',\n",
            "            type: 'get',\n",
            "            cache:false,\n",
            "            success: function(data){\n",
            "                // console.log(data);\n",
            "                var event_data = '';\n",
            "                $.each(data, function(index, value){\n",
            "                    // console.log(value);\n",
            "                    event_data += '<tr>';\n",
            "                    event_data += '<th>'+value.Date+'</th>';\n",
            "                    event_data += '<td>'+value.Open+'</td>';\n",
            "                    event_data += '<td>'+value.High+'</td>';\n",
            "                    event_data += '<td>'+value.Low+'</td>';\n",
            "                    event_data += '<td>'+value.Close+'</td>';\n",
            "                    event_data += '<td>'+value['Adj Close']+'</td>';\n",
            "                    event_data += '<td>'+value.Volume+'</td>';\n",
            "                    event_data += '</tr>';\n",
            "                });\n",
            "                $(\"#spy\").append(event_data);\n",
            "            },\n",
            "            error: function(d){\n",
            "                // console.log(\"error\");\n",
            "                alert(\"404. Please wait until the File is Loaded.\");\n",
            "            }\n",
            "        });\n",
            "    });\n",
            "    </script>\n",
            "    \n",
            "\n",
            "</body>\n",
            "</html>\n"
          ]
        }
      ]
    },
    {
      "cell_type": "markdown",
      "source": [
        "如果要抓Ajax的資料，就要發送取得JSON的路徑"
      ],
      "metadata": {
        "id": "R_89Rlv8hNDb"
      }
    },
    {
      "cell_type": "markdown",
      "source": [
        "### 取得requests"
      ],
      "metadata": {
        "id": "LQEyEg03hwNc"
      }
    },
    {
      "cell_type": "code",
      "source": [
        "url = 'https://victorgau.github.io/khpy_web_intro/spy.json'"
      ],
      "metadata": {
        "id": "whUReyfWXCsf"
      },
      "execution_count": null,
      "outputs": []
    },
    {
      "cell_type": "code",
      "source": [
        "r = requests.get(url).json()"
      ],
      "metadata": {
        "id": "c2-iB0YXg6OR"
      },
      "execution_count": null,
      "outputs": []
    },
    {
      "cell_type": "code",
      "source": [
        "print(r)"
      ],
      "metadata": {
        "colab": {
          "base_uri": "https://localhost:8080/"
        },
        "id": "e6UOBEQkhAge",
        "outputId": "b6a01bc2-6fe5-429d-b455-ae3c73749aa1"
      },
      "execution_count": null,
      "outputs": [
        {
          "output_type": "stream",
          "name": "stdout",
          "text": [
            "[{'Date': '2021-07-26', 'Open': 439.309998, 'High': 441.029999, 'Low': 439.26001, 'Close': 441.019989, 'Adj Close': 441.019989, 'Volume': 43719200}, {'Date': '2021-07-27', 'Open': 439.910004, 'High': 439.940002, 'Low': 435.98999, 'Close': 439.01001, 'Adj Close': 439.01001, 'Volume': 67397100}, {'Date': '2021-07-28', 'Open': 439.679993, 'High': 440.299988, 'Low': 437.309998, 'Close': 438.829987, 'Adj Close': 438.829987, 'Volume': 52472400}, {'Date': '2021-07-29', 'Open': 439.820007, 'High': 441.799988, 'Low': 439.809998, 'Close': 440.649994, 'Adj Close': 440.649994, 'Volume': 47435300}, {'Date': '2021-07-30', 'Open': 437.910004, 'High': 440.059998, 'Low': 437.769989, 'Close': 438.51001, 'Adj Close': 438.51001, 'Volume': 68890600}, {'Date': '2021-08-02', 'Open': 440.339996, 'High': 440.929993, 'Low': 437.209991, 'Close': 437.589996, 'Adj Close': 437.589996, 'Volume': 58783300}, {'Date': '2021-08-03', 'Open': 438.440002, 'High': 441.279999, 'Low': 436.100006, 'Close': 441.149994, 'Adj Close': 441.149994, 'Volume': 58053900}, {'Date': '2021-08-04', 'Open': 439.779999, 'High': 441.119995, 'Low': 438.730011, 'Close': 438.980011, 'Adj Close': 438.980011, 'Volume': 46732200}, {'Date': '2021-08-05', 'Open': 440.220001, 'High': 441.850006, 'Low': 439.880005, 'Close': 441.76001, 'Adj Close': 441.76001, 'Volume': 38969700}, {'Date': '2021-08-06', 'Open': 442.100006, 'High': 442.940002, 'Low': 441.799988, 'Close': 442.48999, 'Adj Close': 442.48999, 'Volume': 46864100}]\n"
          ]
        }
      ]
    },
    {
      "cell_type": "markdown",
      "source": [
        "### 使用Pandas"
      ],
      "metadata": {
        "id": "D96oSD7vh1cC"
      }
    },
    {
      "cell_type": "code",
      "source": [
        "df_list = pd.read_json(url)"
      ],
      "metadata": {
        "id": "-9pHGISzhCmN"
      },
      "execution_count": null,
      "outputs": []
    },
    {
      "cell_type": "code",
      "source": [
        "df_list"
      ],
      "metadata": {
        "colab": {
          "base_uri": "https://localhost:8080/"
        },
        "id": "Gu45dqcFibKC",
        "outputId": "89ff7c89-8e9d-4be2-e8c8-421d4fe03016"
      },
      "execution_count": null,
      "outputs": [
        {
          "output_type": "execute_result",
          "data": {
            "text/plain": [
              "        Date        Open        High         Low       Close   Adj Close  \\\n",
              "0 2021-07-26  439.309998  441.029999  439.260010  441.019989  441.019989   \n",
              "1 2021-07-27  439.910004  439.940002  435.989990  439.010010  439.010010   \n",
              "2 2021-07-28  439.679993  440.299988  437.309998  438.829987  438.829987   \n",
              "3 2021-07-29  439.820007  441.799988  439.809998  440.649994  440.649994   \n",
              "4 2021-07-30  437.910004  440.059998  437.769989  438.510010  438.510010   \n",
              "5 2021-08-02  440.339996  440.929993  437.209991  437.589996  437.589996   \n",
              "6 2021-08-03  438.440002  441.279999  436.100006  441.149994  441.149994   \n",
              "7 2021-08-04  439.779999  441.119995  438.730011  438.980011  438.980011   \n",
              "8 2021-08-05  440.220001  441.850006  439.880005  441.760010  441.760010   \n",
              "9 2021-08-06  442.100006  442.940002  441.799988  442.489990  442.489990   \n",
              "\n",
              "     Volume  \n",
              "0  43719200  \n",
              "1  67397100  \n",
              "2  52472400  \n",
              "3  47435300  \n",
              "4  68890600  \n",
              "5  58783300  \n",
              "6  58053900  \n",
              "7  46732200  \n",
              "8  38969700  \n",
              "9  46864100  "
            ],
            "text/html": [
              "\n",
              "  <div id=\"df-77b4b260-89b2-41de-89e8-6b768678deee\">\n",
              "    <div class=\"colab-df-container\">\n",
              "      <div>\n",
              "<style scoped>\n",
              "    .dataframe tbody tr th:only-of-type {\n",
              "        vertical-align: middle;\n",
              "    }\n",
              "\n",
              "    .dataframe tbody tr th {\n",
              "        vertical-align: top;\n",
              "    }\n",
              "\n",
              "    .dataframe thead th {\n",
              "        text-align: right;\n",
              "    }\n",
              "</style>\n",
              "<table border=\"1\" class=\"dataframe\">\n",
              "  <thead>\n",
              "    <tr style=\"text-align: right;\">\n",
              "      <th></th>\n",
              "      <th>Date</th>\n",
              "      <th>Open</th>\n",
              "      <th>High</th>\n",
              "      <th>Low</th>\n",
              "      <th>Close</th>\n",
              "      <th>Adj Close</th>\n",
              "      <th>Volume</th>\n",
              "    </tr>\n",
              "  </thead>\n",
              "  <tbody>\n",
              "    <tr>\n",
              "      <th>0</th>\n",
              "      <td>2021-07-26</td>\n",
              "      <td>439.309998</td>\n",
              "      <td>441.029999</td>\n",
              "      <td>439.260010</td>\n",
              "      <td>441.019989</td>\n",
              "      <td>441.019989</td>\n",
              "      <td>43719200</td>\n",
              "    </tr>\n",
              "    <tr>\n",
              "      <th>1</th>\n",
              "      <td>2021-07-27</td>\n",
              "      <td>439.910004</td>\n",
              "      <td>439.940002</td>\n",
              "      <td>435.989990</td>\n",
              "      <td>439.010010</td>\n",
              "      <td>439.010010</td>\n",
              "      <td>67397100</td>\n",
              "    </tr>\n",
              "    <tr>\n",
              "      <th>2</th>\n",
              "      <td>2021-07-28</td>\n",
              "      <td>439.679993</td>\n",
              "      <td>440.299988</td>\n",
              "      <td>437.309998</td>\n",
              "      <td>438.829987</td>\n",
              "      <td>438.829987</td>\n",
              "      <td>52472400</td>\n",
              "    </tr>\n",
              "    <tr>\n",
              "      <th>3</th>\n",
              "      <td>2021-07-29</td>\n",
              "      <td>439.820007</td>\n",
              "      <td>441.799988</td>\n",
              "      <td>439.809998</td>\n",
              "      <td>440.649994</td>\n",
              "      <td>440.649994</td>\n",
              "      <td>47435300</td>\n",
              "    </tr>\n",
              "    <tr>\n",
              "      <th>4</th>\n",
              "      <td>2021-07-30</td>\n",
              "      <td>437.910004</td>\n",
              "      <td>440.059998</td>\n",
              "      <td>437.769989</td>\n",
              "      <td>438.510010</td>\n",
              "      <td>438.510010</td>\n",
              "      <td>68890600</td>\n",
              "    </tr>\n",
              "    <tr>\n",
              "      <th>5</th>\n",
              "      <td>2021-08-02</td>\n",
              "      <td>440.339996</td>\n",
              "      <td>440.929993</td>\n",
              "      <td>437.209991</td>\n",
              "      <td>437.589996</td>\n",
              "      <td>437.589996</td>\n",
              "      <td>58783300</td>\n",
              "    </tr>\n",
              "    <tr>\n",
              "      <th>6</th>\n",
              "      <td>2021-08-03</td>\n",
              "      <td>438.440002</td>\n",
              "      <td>441.279999</td>\n",
              "      <td>436.100006</td>\n",
              "      <td>441.149994</td>\n",
              "      <td>441.149994</td>\n",
              "      <td>58053900</td>\n",
              "    </tr>\n",
              "    <tr>\n",
              "      <th>7</th>\n",
              "      <td>2021-08-04</td>\n",
              "      <td>439.779999</td>\n",
              "      <td>441.119995</td>\n",
              "      <td>438.730011</td>\n",
              "      <td>438.980011</td>\n",
              "      <td>438.980011</td>\n",
              "      <td>46732200</td>\n",
              "    </tr>\n",
              "    <tr>\n",
              "      <th>8</th>\n",
              "      <td>2021-08-05</td>\n",
              "      <td>440.220001</td>\n",
              "      <td>441.850006</td>\n",
              "      <td>439.880005</td>\n",
              "      <td>441.760010</td>\n",
              "      <td>441.760010</td>\n",
              "      <td>38969700</td>\n",
              "    </tr>\n",
              "    <tr>\n",
              "      <th>9</th>\n",
              "      <td>2021-08-06</td>\n",
              "      <td>442.100006</td>\n",
              "      <td>442.940002</td>\n",
              "      <td>441.799988</td>\n",
              "      <td>442.489990</td>\n",
              "      <td>442.489990</td>\n",
              "      <td>46864100</td>\n",
              "    </tr>\n",
              "  </tbody>\n",
              "</table>\n",
              "</div>\n",
              "      <button class=\"colab-df-convert\" onclick=\"convertToInteractive('df-77b4b260-89b2-41de-89e8-6b768678deee')\"\n",
              "              title=\"Convert this dataframe to an interactive table.\"\n",
              "              style=\"display:none;\">\n",
              "        \n",
              "  <svg xmlns=\"http://www.w3.org/2000/svg\" height=\"24px\"viewBox=\"0 0 24 24\"\n",
              "       width=\"24px\">\n",
              "    <path d=\"M0 0h24v24H0V0z\" fill=\"none\"/>\n",
              "    <path d=\"M18.56 5.44l.94 2.06.94-2.06 2.06-.94-2.06-.94-.94-2.06-.94 2.06-2.06.94zm-11 1L8.5 8.5l.94-2.06 2.06-.94-2.06-.94L8.5 2.5l-.94 2.06-2.06.94zm10 10l.94 2.06.94-2.06 2.06-.94-2.06-.94-.94-2.06-.94 2.06-2.06.94z\"/><path d=\"M17.41 7.96l-1.37-1.37c-.4-.4-.92-.59-1.43-.59-.52 0-1.04.2-1.43.59L10.3 9.45l-7.72 7.72c-.78.78-.78 2.05 0 2.83L4 21.41c.39.39.9.59 1.41.59.51 0 1.02-.2 1.41-.59l7.78-7.78 2.81-2.81c.8-.78.8-2.07 0-2.86zM5.41 20L4 18.59l7.72-7.72 1.47 1.35L5.41 20z\"/>\n",
              "  </svg>\n",
              "      </button>\n",
              "      \n",
              "  <style>\n",
              "    .colab-df-container {\n",
              "      display:flex;\n",
              "      flex-wrap:wrap;\n",
              "      gap: 12px;\n",
              "    }\n",
              "\n",
              "    .colab-df-convert {\n",
              "      background-color: #E8F0FE;\n",
              "      border: none;\n",
              "      border-radius: 50%;\n",
              "      cursor: pointer;\n",
              "      display: none;\n",
              "      fill: #1967D2;\n",
              "      height: 32px;\n",
              "      padding: 0 0 0 0;\n",
              "      width: 32px;\n",
              "    }\n",
              "\n",
              "    .colab-df-convert:hover {\n",
              "      background-color: #E2EBFA;\n",
              "      box-shadow: 0px 1px 2px rgba(60, 64, 67, 0.3), 0px 1px 3px 1px rgba(60, 64, 67, 0.15);\n",
              "      fill: #174EA6;\n",
              "    }\n",
              "\n",
              "    [theme=dark] .colab-df-convert {\n",
              "      background-color: #3B4455;\n",
              "      fill: #D2E3FC;\n",
              "    }\n",
              "\n",
              "    [theme=dark] .colab-df-convert:hover {\n",
              "      background-color: #434B5C;\n",
              "      box-shadow: 0px 1px 3px 1px rgba(0, 0, 0, 0.15);\n",
              "      filter: drop-shadow(0px 1px 2px rgba(0, 0, 0, 0.3));\n",
              "      fill: #FFFFFF;\n",
              "    }\n",
              "  </style>\n",
              "\n",
              "      <script>\n",
              "        const buttonEl =\n",
              "          document.querySelector('#df-77b4b260-89b2-41de-89e8-6b768678deee button.colab-df-convert');\n",
              "        buttonEl.style.display =\n",
              "          google.colab.kernel.accessAllowed ? 'block' : 'none';\n",
              "\n",
              "        async function convertToInteractive(key) {\n",
              "          const element = document.querySelector('#df-77b4b260-89b2-41de-89e8-6b768678deee');\n",
              "          const dataTable =\n",
              "            await google.colab.kernel.invokeFunction('convertToInteractive',\n",
              "                                                     [key], {});\n",
              "          if (!dataTable) return;\n",
              "\n",
              "          const docLinkHtml = 'Like what you see? Visit the ' +\n",
              "            '<a target=\"_blank\" href=https://colab.research.google.com/notebooks/data_table.ipynb>data table notebook</a>'\n",
              "            + ' to learn more about interactive tables.';\n",
              "          element.innerHTML = '';\n",
              "          dataTable['output_type'] = 'display_data';\n",
              "          await google.colab.output.renderOutput(dataTable, element);\n",
              "          const docLink = document.createElement('div');\n",
              "          docLink.innerHTML = docLinkHtml;\n",
              "          element.appendChild(docLink);\n",
              "        }\n",
              "      </script>\n",
              "    </div>\n",
              "  </div>\n",
              "  "
            ]
          },
          "metadata": {},
          "execution_count": 162
        }
      ]
    },
    {
      "cell_type": "markdown",
      "source": [
        "## 剖析網頁原始碼"
      ],
      "metadata": {
        "id": "OAKfKyKCjJ6g"
      }
    },
    {
      "cell_type": "markdown",
      "source": [
        "Requests 用於發送請求\n",
        "\n",
        "BeautifulSoup 用於剖析原始碼"
      ],
      "metadata": {
        "id": "jOStAiVXE61H"
      }
    },
    {
      "cell_type": "code",
      "source": [
        "str = \"\"\"\n",
        "\n",
        "<!DOCTYPE html>\n",
        "<html>\n",
        "<head>\n",
        "    <!-- Required meta tags -->\n",
        "    <meta charset=\"utf-8\">\n",
        "    <meta name=\"viewport\" content=\"width=device-width, initial-scale=1, shrink-to-fit=no\">\n",
        "\n",
        "    <!-- Bootstrap CSS -->\n",
        "    <link rel=\"stylesheet\" href=\"https://maxcdn.bootstrapcdn.com/bootstrap/4.0.0/css/bootstrap.min.css\" integrity=\"sha384-Gn5384xqQ1aoWXA+058RXPxPg6fy4IWvTNh0E263XmFcJlSAwiGgFAW/dAiS6JXm\" crossorigin=\"anonymous\">\n",
        "    <link rel=\"stylesheet\" href=\"https://cdn.jsdelivr.net/npm/bootstrap-icons@1.5.0/font/bootstrap-icons.css\">\n",
        "    <title>範例索引</title>\n",
        "</head>\n",
        "<body>\n",
        "    <div class=\"container\">\n",
        "        <div class=\"row my-5\">\n",
        "            <div class=\"col\">\n",
        "                <h1 class=\"bg-warning p-3 rounded\">Web及爬蟲簡介課程範例</h1>\n",
        "\n",
        "                <ul class=\"list-group\">\n",
        "                    <li class=\"list-group-item\"><i class=\"bi bi-globe\"></i> <a href=\"html_only.html\">HTML 範例</a></li>\n",
        "                    <li class=\"list-group-item\"><i class=\"bi bi-globe\"></i> <a href=\"html_css.html\">HTML + CSS 範例</a></li>\n",
        "                    <li class=\"list-group-item\"><i class=\"bi bi-globe\"></i> <a href=\"html_css_javascript.html\">HTML + CSS + Javascript 範例</a></li>\n",
        "                    <li class=\"list-group-item\"><i class=\"bi bi-bug\"></i> <a href=\"example01.html\">example01.html (爬蟲抓取用範例)</a></li>\n",
        "                    <li class=\"list-group-item\"><i class=\"bi bi-bug\"></i> <a href=\"example02.html\">example02.html (爬蟲抓取用範例)</a></li>\n",
        "                    <li class=\"list-group-item\"><i class=\"bi bi-bug\"></i> <a href=\"example03.html\">example03.html (爬蟲抓取用範例)</a></li>\n",
        "                    <li class=\"list-group-item\"><i class=\"bi bi-bug\"></i> <a href=\"example04.html\">example04.html (爬蟲抓取用範例)</a></li>\n",
        "                    <li class=\"list-group-item\"><i class=\"bi bi-bug\"></i> <a href=\"example05.html\">example05.html (爬蟲抓取用範例)</a></li>\n",
        "                    <li class=\"list-group-item\"><i class=\"bi bi-bug\"></i> <a href=\"spy.html\">Classic HTML 範例 (爬蟲抓取用範例)</a></li>\n",
        "                    <li class=\"list-group-item\"><i class=\"bi bi-bug\"></i> <a href=\"spy_ajax.html\">Ajax 範例 (爬蟲抓取用範例)</a></li>\n",
        "                    <li class=\"list-group-item\"><i class=\"bi bi-bug\"></i> <a href=\"form_get.html\">HTTP GET 方法說明</a></li>\n",
        "                    <li class=\"list-group-item\"><i class=\"bi bi-bug\"></i> <a href=\"form_post.html\">HTTP POST 方法說明</a></li>\n",
        "                </ul>         \n",
        "            </div>\n",
        "    \n",
        "        </div>\n",
        "    </div>\n",
        "\n",
        "<!-- Optional JavaScript -->\n",
        "<!-- jQuery first, then Popper.js, then Bootstrap JS -->\n",
        "<script src=\"https://code.jquery.com/jquery-3.2.1.slim.min.js\" integrity=\"sha384-KJ3o2DKtIkvYIK3UENzmM7KCkRr/rE9/Qpg6aAZGJwFDMVNA/GpGFF93hXpG5KkN\" crossorigin=\"anonymous\"></script>\n",
        "<script src=\"https://cdnjs.cloudflare.com/ajax/libs/popper.js/1.12.9/umd/popper.min.js\" integrity=\"sha384-ApNbgh9B+Y1QKtv3Rn7W3mgPxhU9K/ScQsAP7hUibX39j7fakFPskvXusvfa0b4Q\" crossorigin=\"anonymous\"></script>\n",
        "<script src=\"https://maxcdn.bootstrapcdn.com/bootstrap/4.0.0/js/bootstrap.min.js\" integrity=\"sha384-JZR6Spejh4U02d8jOt6vLEHfe/JQGiRRSQQxSfFWpi1MquVdAyjUar5+76PVCmYl\" crossorigin=\"anonymous\"></script>\n",
        "\n",
        "</body>\n",
        "</html>\"\"\""
      ],
      "metadata": {
        "id": "Ju7VjxT6jREr"
      },
      "execution_count": null,
      "outputs": []
    },
    {
      "cell_type": "markdown",
      "source": [
        "### 透過BeautifulSoup抓取網頁標籤"
      ],
      "metadata": {
        "id": "LxlMVvqjkUrl"
      }
    },
    {
      "cell_type": "code",
      "source": [
        "from bs4 import BeautifulSoup"
      ],
      "metadata": {
        "id": "f8UZI2S9jro7"
      },
      "execution_count": null,
      "outputs": []
    },
    {
      "cell_type": "code",
      "source": [
        "soup = BeautifulSoup(str)"
      ],
      "metadata": {
        "id": "j2rxqAO4kI7m"
      },
      "execution_count": null,
      "outputs": []
    },
    {
      "cell_type": "markdown",
      "source": [
        "#### h1"
      ],
      "metadata": {
        "id": "oI-UZsDgk3xT"
      }
    },
    {
      "cell_type": "code",
      "source": [
        "soup.h1"
      ],
      "metadata": {
        "colab": {
          "base_uri": "https://localhost:8080/"
        },
        "id": "bgia6avYkQYD",
        "outputId": "c2c4d9af-4032-47d3-ab55-3f21d92eac18"
      },
      "execution_count": null,
      "outputs": [
        {
          "output_type": "execute_result",
          "data": {
            "text/plain": [
              "<h1 class=\"bg-warning p-3 rounded\">Web及爬蟲簡介課程範例</h1>"
            ]
          },
          "metadata": {},
          "execution_count": 166
        }
      ]
    },
    {
      "cell_type": "code",
      "source": [
        "soup.h1.text"
      ],
      "metadata": {
        "colab": {
          "base_uri": "https://localhost:8080/"
        },
        "id": "_k5XxerxpTOs",
        "outputId": "d914bf8e-8a2b-4130-d25a-1b03323e93a3"
      },
      "execution_count": null,
      "outputs": [
        {
          "output_type": "execute_result",
          "data": {
            "text/plain": [
              "'Web及爬蟲簡介課程範例'"
            ],
            "application/vnd.google.colaboratory.intrinsic+json": {
              "type": "string"
            }
          },
          "metadata": {},
          "execution_count": 167
        }
      ]
    },
    {
      "cell_type": "markdown",
      "source": [
        "#### li"
      ],
      "metadata": {
        "id": "ipVw8V0Vk7lK"
      }
    },
    {
      "cell_type": "markdown",
      "source": [
        "如果有多個標籤，取得標籤屬性會是第一個標籤的內容"
      ],
      "metadata": {
        "id": "b7xYMwmSnYNB"
      }
    },
    {
      "cell_type": "code",
      "source": [
        "soup.li"
      ],
      "metadata": {
        "id": "Z4pNCuUclBmE",
        "outputId": "e8f0bb61-c47b-4a1c-f1df-f37df82eac88",
        "colab": {
          "base_uri": "https://localhost:8080/"
        }
      },
      "execution_count": null,
      "outputs": [
        {
          "output_type": "execute_result",
          "data": {
            "text/plain": [
              "<li class=\"list-group-item\"><i class=\"bi bi-globe\"></i> <a href=\"html_only.html\">HTML 範例</a></li>"
            ]
          },
          "metadata": {},
          "execution_count": 168
        }
      ]
    },
    {
      "cell_type": "markdown",
      "source": [
        "若要一次取得所有標籤，要透過selsect取得"
      ],
      "metadata": {
        "id": "O8L8OUkUnom6"
      }
    },
    {
      "cell_type": "markdown",
      "source": [
        "#### select"
      ],
      "metadata": {
        "id": "CahWLVzwnzRj"
      }
    },
    {
      "cell_type": "code",
      "source": [
        "soup.select('li')"
      ],
      "metadata": {
        "colab": {
          "base_uri": "https://localhost:8080/"
        },
        "id": "v_0jsZ1unRqp",
        "outputId": "5a7e2a0b-1c34-42f1-c12a-0b82d78bcf2e"
      },
      "execution_count": null,
      "outputs": [
        {
          "output_type": "execute_result",
          "data": {
            "text/plain": [
              "[<li class=\"list-group-item\"><i class=\"bi bi-globe\"></i> <a href=\"html_only.html\">HTML 範例</a></li>,\n",
              " <li class=\"list-group-item\"><i class=\"bi bi-globe\"></i> <a href=\"html_css.html\">HTML + CSS 範例</a></li>,\n",
              " <li class=\"list-group-item\"><i class=\"bi bi-globe\"></i> <a href=\"html_css_javascript.html\">HTML + CSS + Javascript 範例</a></li>,\n",
              " <li class=\"list-group-item\"><i class=\"bi bi-bug\"></i> <a href=\"example01.html\">example01.html (爬蟲抓取用範例)</a></li>,\n",
              " <li class=\"list-group-item\"><i class=\"bi bi-bug\"></i> <a href=\"example02.html\">example02.html (爬蟲抓取用範例)</a></li>,\n",
              " <li class=\"list-group-item\"><i class=\"bi bi-bug\"></i> <a href=\"example03.html\">example03.html (爬蟲抓取用範例)</a></li>,\n",
              " <li class=\"list-group-item\"><i class=\"bi bi-bug\"></i> <a href=\"example04.html\">example04.html (爬蟲抓取用範例)</a></li>,\n",
              " <li class=\"list-group-item\"><i class=\"bi bi-bug\"></i> <a href=\"example05.html\">example05.html (爬蟲抓取用範例)</a></li>,\n",
              " <li class=\"list-group-item\"><i class=\"bi bi-bug\"></i> <a href=\"spy.html\">Classic HTML 範例 (爬蟲抓取用範例)</a></li>,\n",
              " <li class=\"list-group-item\"><i class=\"bi bi-bug\"></i> <a href=\"spy_ajax.html\">Ajax 範例 (爬蟲抓取用範例)</a></li>,\n",
              " <li class=\"list-group-item\"><i class=\"bi bi-bug\"></i> <a href=\"form_get.html\">HTTP GET 方法說明</a></li>,\n",
              " <li class=\"list-group-item\"><i class=\"bi bi-bug\"></i> <a href=\"form_post.html\">HTTP POST 方法說明</a></li>]"
            ]
          },
          "metadata": {},
          "execution_count": 169
        }
      ]
    },
    {
      "cell_type": "code",
      "source": [
        "for i, x in enumerate(soup.select('li')):\n",
        "  print('{} => {}'.format(i, x.text))"
      ],
      "metadata": {
        "colab": {
          "base_uri": "https://localhost:8080/"
        },
        "id": "PSfwflhlpe0t",
        "outputId": "cb333f41-b8e6-4840-d5a9-bced25f5ddc1"
      },
      "execution_count": null,
      "outputs": [
        {
          "output_type": "stream",
          "name": "stdout",
          "text": [
            "0 =>  HTML 範例\n",
            "1 =>  HTML + CSS 範例\n",
            "2 =>  HTML + CSS + Javascript 範例\n",
            "3 =>  example01.html (爬蟲抓取用範例)\n",
            "4 =>  example02.html (爬蟲抓取用範例)\n",
            "5 =>  example03.html (爬蟲抓取用範例)\n",
            "6 =>  example04.html (爬蟲抓取用範例)\n",
            "7 =>  example05.html (爬蟲抓取用範例)\n",
            "8 =>  Classic HTML 範例 (爬蟲抓取用範例)\n",
            "9 =>  Ajax 範例 (爬蟲抓取用範例)\n",
            "10 =>  HTTP GET 方法說明\n",
            "11 =>  HTTP POST 方法說明\n"
          ]
        }
      ]
    },
    {
      "cell_type": "markdown",
      "source": [
        "## Requests & BeautifulSoup"
      ],
      "metadata": {
        "id": "4f7FM94WEwBq"
      }
    },
    {
      "cell_type": "code",
      "source": [
        "url = 'https://victorgau.github.io/khpy_web_intro/'"
      ],
      "metadata": {
        "id": "Kgpz5H-SFPA3"
      },
      "execution_count": null,
      "outputs": []
    },
    {
      "cell_type": "code",
      "source": [
        "r = requests.get(url)"
      ],
      "metadata": {
        "id": "353jUzOLHHe6"
      },
      "execution_count": null,
      "outputs": []
    },
    {
      "cell_type": "code",
      "source": [
        "soup = BeautifulSoup(r.text)"
      ],
      "metadata": {
        "id": "MiGHaRUWHQUB"
      },
      "execution_count": null,
      "outputs": []
    },
    {
      "cell_type": "code",
      "source": [
        "soup.select('li')"
      ],
      "metadata": {
        "colab": {
          "base_uri": "https://localhost:8080/"
        },
        "id": "HEg5u7etHdCi",
        "outputId": "33910a91-8e0e-42b3-e181-329997ead34f"
      },
      "execution_count": null,
      "outputs": [
        {
          "output_type": "execute_result",
          "data": {
            "text/plain": [
              "[<li class=\"list-group-item\"><i class=\"bi bi-globe\"></i> <a href=\"html_only.html\">HTML 範例</a></li>,\n",
              " <li class=\"list-group-item\"><i class=\"bi bi-globe\"></i> <a href=\"html_css.html\">HTML + CSS 範例</a></li>,\n",
              " <li class=\"list-group-item\"><i class=\"bi bi-globe\"></i> <a href=\"html_css_javascript.html\">HTML + CSS + Javascript 範例</a></li>,\n",
              " <li class=\"list-group-item\"><i class=\"bi bi-bug\"></i> <a href=\"example01.html\">example01.html (爬蟲抓取用範例)</a></li>,\n",
              " <li class=\"list-group-item\"><i class=\"bi bi-bug\"></i> <a href=\"example02.html\">example02.html (爬蟲抓取用範例)</a></li>,\n",
              " <li class=\"list-group-item\"><i class=\"bi bi-bug\"></i> <a href=\"example03.html\">example03.html (爬蟲抓取用範例)</a></li>,\n",
              " <li class=\"list-group-item\"><i class=\"bi bi-bug\"></i> <a href=\"example04.html\">example04.html (爬蟲抓取用範例)</a></li>,\n",
              " <li class=\"list-group-item\"><i class=\"bi bi-bug\"></i> <a href=\"example05.html\">example05.html (爬蟲抓取用範例)</a></li>,\n",
              " <li class=\"list-group-item\"><i class=\"bi bi-bug\"></i> <a href=\"spy.html\">Classic HTML 範例 (爬蟲抓取用範例)</a></li>,\n",
              " <li class=\"list-group-item\"><i class=\"bi bi-bug\"></i> <a href=\"spy_ajax.html\">Ajax 範例 (爬蟲抓取用範例)</a></li>,\n",
              " <li class=\"list-group-item\"><i class=\"bi bi-bug\"></i> <a href=\"form_get.html\">HTTP GET 方法說明</a></li>,\n",
              " <li class=\"list-group-item\"><i class=\"bi bi-bug\"></i> <a href=\"form_post.html\">HTTP POST 方法說明</a></li>]"
            ]
          },
          "metadata": {},
          "execution_count": 174
        }
      ]
    },
    {
      "cell_type": "markdown",
      "source": [
        "## 抓取露天拍賣資料"
      ],
      "metadata": {
        "id": "iF_YtncNH-JF"
      }
    },
    {
      "cell_type": "code",
      "source": [
        "url = 'https://rapi.ruten.com.tw/api/items/v2/list?gno=22015417513236,21736053476093,21834540027365,22252898212564,21649700396670,22308079245013,22237329689878,22210123712597,21745320986478,21306054256587,21613325935853,21944761460105,21703145841781,22005260221068,22237311162987,21604762628879,11090408564918,22248786322714,22245652943789,21847062459479,22014410658733,22235203989858,21943528063496,22234178253166,21108171499407,22145904454224,11090511060868,22115760677048,22309095665265,21914719498937,22250853459858,21937798322575,21306054810707,22243585104714,22150490437805,22228721266684,22225501810435,21452083528392,21212032019014,22123942782204,22202790617075,22304948341987,22301911238282,21210044997885,22219992217859,21303231597758,22305966056251,22246693701046,21644175207627,22246694136319,22237321147868,22238387197068,22237329105848,22150476031225,21311130319049,21937841464199,22213383362151,22238385165049,21111097173441,11090929553588&level=simple'"
      ],
      "metadata": {
        "id": "czimlUEpID22"
      },
      "execution_count": null,
      "outputs": []
    },
    {
      "cell_type": "markdown",
      "source": [
        "因為露天有反爬蟲，所以要在headers中的屬性user-agent將值改為瀏覽器名稱\n",
        "\n",
        "告訴伺服器說發送請求的是瀏覽器而不是應用程式\n",
        "\n",
        "來避免露天擋爬蟲"
      ],
      "metadata": {
        "id": "Y19ST3mcL0ge"
      }
    },
    {
      "cell_type": "code",
      "source": [
        "headers = {'user-agent':'Mozilla/5.0 (Windows NT 10.0; Win64; x64) AppleWebKit/537.36 (KHTML, like Gecko) Chrome/110.0.0.0 Safari/537.36'}"
      ],
      "metadata": {
        "id": "Lol8-HT9IVOd"
      },
      "execution_count": null,
      "outputs": []
    },
    {
      "cell_type": "code",
      "source": [
        "r = requests.get(url, headers=headers).json()"
      ],
      "metadata": {
        "id": "XADtilwoIK5O"
      },
      "execution_count": null,
      "outputs": []
    },
    {
      "cell_type": "code",
      "source": [
        "for i in r['data']:\n",
        "  print(f\"{i['name']}: {i['goods_price']}元\")"
      ],
      "metadata": {
        "colab": {
          "base_uri": "https://localhost:8080/"
        },
        "id": "4NFbKEJGJQAT",
        "outputId": "1c37449e-4e1e-47a8-ce55-1dc6b931ed5a"
      },
      "execution_count": null,
      "outputs": [
        {
          "output_type": "stream",
          "name": "stdout",
          "text": [
            "現貨 雙頻 600M 免驅動 5G 天線 台灣瑞昱 迷你網卡 USB 無線網卡 WIFI發射 WIFI接收器 無線AP: 249元\n",
            "【高靈敏降噪收音！送收納包】vlog拍攝收音 3.5mm 領夾式 錄音麥克風 電腦麥克風手機收音麥克風 小蜜蜂麥克風: 219元\n",
            "國聯租賃-實體店面-含稅發票 日本原裝 CANARE 4S8 經典 喇叭線  4蕊 入門線材首選: 70元\n",
            "換車自售2012年Mazda 馬5 七人座(Crv Escape RAV4 KUGA i-max wish M7參考): 180000元\n",
            "【eWhat億華】 Sony Distagon T* SAL 24mm F2 SSM 【SAL24F20Z】特價出清平輸: 14540元\n",
            "☆卡卡夫☆23年7月預購(取付免訂金)代理版 GSC 黏土人 HUNTER x HUNTER 獵人 奇犽 再版 0324: 1160元\n",
            "【普雷伊-桃園】現貨免運★附特典【PS5人中之龍 維新！極 中文版】2023/2/22預計發售45#: 1590元\n",
            "makita 牧田 通用款6 英寸 8000W 電動鋸修剪鏈鋸花園樹木伐木修剪鋸木工切割機 電動工具: 1798元\n",
            "刀劍神域 SAO 動漫PU長夾 拉鍊長皮夾 亞絲娜 桐人二款 可放證件夾零錢包 非短夾皮包 卡位多 磁扣 相片 生日禮物: 330元\n",
            "★波爾桌球★ STIGA CLIPPER WOOD 經典拍 ( 代理商公司貨, 免運費): 1900元\n",
            "HFC M1911 CO2直壓槍 雙匣版 (BB槍BB彈玩具槍短槍氣動槍.45手槍1911 M1911 M1943: 1580元\n",
            "（限量）Hoya 咖啡 三合一  二合一（整箱專區）: 1880元\n",
            "【Aromase艾瑪絲】 5α高效控油洗髮精400mL-高階版: 135元\n",
            "GoGoLife-網布480D連身塑身背心 塑身背心塑身衣修身衣無痕高彈性透氣網布 托胸機能束衣 束腰收腹美型: 260元\n",
            "【台灣現貨 A205】韓系鯊魚夾 抓夾 鯊魚夾 韓國髮飾 韓國髮夾 後腦勺髮夾 彩色磨砂大鯊魚夾 長方形縷空鯊魚夾: 13元\n",
            "【雙口袋腰包】升級版隱形防水貼身防扒防竊防盜高彈性運動雙拉鍊腰包戶外運動登山騎車跑步旅遊慢跑☆精品社: 29元\n",
            "10英吋軟水樹脂濾心6支.水族館養殖.觀賞魚軟水除氯除垢淨水器.過濾器濾水器貨號:9038【七星淨水】: 360元\n",
            "『櫻華奇想』(代訂) 日文全彩漫畫 シオンコネクト【みちきんぐ】附錄：ASMR音聲: 1020元\n",
            "(店舖特典版代購)22110786 孤獨搖滾 團結樂團 FULL 專輯「結束バンド」期間生產限定盤: 1540元\n",
            "煥賣玩意＃【電影DM宣傳品】賣場華爾滋(3): 5元\n",
            "《 J.ST 》瑞士水鬼Tevise 簡約日月星期顯示鏤空背面陀飛輪自動機械錶手錶男錶【TV9005F】聖誕節情人節禮物: 890元\n",
            "《偷心聊法1.0+2.0》| 搭訕大師TV | 柯李思Chris | 良叔 | 影片集 || PUA線上課程||泡妞把妹: 799元\n",
            "Twitter 推特純手工創建 全新台灣IP註冊 通過信箱手機驗證認證 女帳號 可自訂另可代收手機簡訊驗證碼: 10元\n",
            "【三峽緯嘉】Intel I7-3770 CPU 1155腳位: 1150元\n",
            "三星 25W 原廠快速充電組 快充頭 傳輸線 A52 S20 S20FE NOTE10 NOTE20 Ultra S21: 99元\n",
            "「🇹🇼台灣小米原廠公司貨」小米延長線 米家魔方延長線 延長線 電源延長線 USB充電器 延長線插座 插頭延長線台灣版: 345元\n",
            "隔音棉 高密度 1公分厚 隔熱棉、吸音棉 　隔音綿　隔音毯/制震墊/吸音綿 隔音婂引擎蓋/底盤裝潢/輕隔間/輕鋼架通用: 150元\n",
            "Panasonic 國際牌 eneloop 2100次 4號AAA  3號AA 1.2V 日本 充電電池 收納盒 充電器: 85元\n",
            "《豬帽子✬超取免訂金》預購7月 FuRyu 景品 刀劍神域 BiCute 兔女郎 莉法 高28公分 0312: 530元\n",
            "【全新未拆】任天堂 SWITCH NS 交響傳奇 TALES OF SYMPHONIA REMASTERED 中文版台中: 99990元\n",
            "正品威爾剛  持久可搭 男用持久 延時: 750元\n",
            "【JOY小舖】 皮帶 寬版頭層牛皮針扣式皮帶 真皮皮帶 啞色合金扣頭 腰帶 皮帶 寬版針扣式皮帶 100%頭層牛皮: 380元\n",
            "★波爾桌球★ 乒乓世界桌球專用膠水 (有機膠): 120元\n",
            "民族風 掛繩織帶 四層餐籃 附收納袋 方型餐籃 折疊籃 碗籃 網籃 餐櫥籃 吊籃 曬籃 鳥籠 餐具 瀝乾網架 餐網籃: 390元\n",
            "買3送1挺立關鍵迷你錠挺立UC-II非變性第二型膠原蛋白90錠買二免運正品: 230元\n",
            "大明 空膠囊 100顆/包 食用膠囊 透明膠囊 有色膠囊  0號／1號／2號／3號／4號 多種規格 顏色隨機 非素食膠囊: 20元\n",
            "【紫色星球】長褲 九分褲 瑜珈褲 運動褲 內搭褲【K1176】皮褲 塑身褲 棉褲 彈力褲 拉長腿型 壓力褲 休閒褲: 199元\n",
            "超柔不透明開襠絲襪/連身褲襪美腿絲襪 OL必備顯瘦襪子 各式性感睡衣情趣內衣角色扮演服美配件 情人節禮物流行E線B396: 199元\n",
            "10MM加厚型 真豚皮乳膠鞋墊 KM: 99元\n",
            "紅牛 草莓/巧克力/全脂/果汁牛奶奶粉/香蕉牛奶奶粉1kg 40G隨身包 (沖泡奶粉) 調味奶粉 隨手包: 240元\n",
            "[現貨新品] AV女優 美乃すず/美乃雀 寫真集 優美 豪華愛蔵版: 2290元\n",
            "代訂 milet INTO THE MIRROR 藍光 + 特典B2海報: 1940元\n",
            "進藤あまね 1st寫真集 進藤天音 BanG Dream D4DJ Hibiki 響 愛美 相羽 Morfonica: 1385元\n",
            "【夏天必備汽車降溫】汽車遮陽簾 車用遮陽 磁吸式遮陽簾 遮陽簾 汽車防曬 汽車紗窗 車用遮陽簾 遮陽 防蚊 簡易安裝: 59元\n",
            "『古早雜貨店』台灣製6發虎尾煙火，早期台灣製古早味花炮煙火，連珠炮萬頭炮電光炮大龍炮排炮，蜂炮玩具煙火懷舊老件古董: 180元\n",
            "台塑益生菌 舒暢益生菌(30包/盒)、正貨品、現貨、快速出貨: 360元\n",
            "呆呆熊 Windows win 10 11 Office 2021 2019 序號 usb隨身碟 迷你 電腦 筆電 主機: 120元\n",
            "【現貨帶保固】原廠Apple豆腐頭 iPhone豆腐頭 iphone充電器 iphone頭 18W 20W: 129元\n",
            "【BEST】全新現貨 日本LUXMAN P-750u MARK II 耳機擴大機: 72800元\n",
            "《台灣現貨 10秒速充打氣機》 無線電動打氣機 輪胎快速打氣 預設胎壓 緊急照明【VR040793】: 790元\n",
            "【Xiaomi 智慧攝影機 標準版 2K】⚡️台灣公司 現貨⚡️快速出貨⚡小米攝影機2K 1296P⚡️智慧攝影機2K: 680元\n",
            "【怨念事務所】預約商品 5月(免訂金) Solarain Toys 蘆毛醬 Lucky Dealer 原畫栗毛馬 1/7: 3980元\n",
            "【普雷伊-桃園】預購★免運費【PS4 零～月蝕的假面～ 中文版】2023/3/9預計發售60#: 1590元\n",
            "岡本保險套 okamoto 001 002 輕薄系列 003極薄 威猛持久 超薄 大尺碼 skinles 衛生套 潤滑液: 249元\n",
            "【CS衣舖．0871】42-50腰大尺碼 素色 彈性伸縮 多口袋 側口袋 純黑休閒褲 工作褲 黑褲 087172: 450元\n",
            "效期在商品描述內 現貨 當天寄出 SIS GO 能量果膠 馬拉松 長跑 鐵人三項 單車 運動補給品: 46元\n",
            "【KUI】美國真品 5.11 Maverick 1.75吋 戰術腰帶 類浪人腰帶『黑色、沙色、RG色』56664: 4911元\n",
            "宏都拉斯 亞馬 希望之歌小農 水洗藝伎 *野薑花芳香【每包500公克】【興田咖啡生豆】: 470元\n",
            "RO純水機75加侖304不銹鋼腳架體積小不佔空間淨水器濾水器咖啡機餐飲業. NO:1759【七星淨水: 3999元\n",
            "╭＊水手服專賣店＊╯南投國立   中興國中    夏季制服 運動服(全新品.可挑尺寸): 1600元\n"
          ]
        }
      ]
    },
    {
      "cell_type": "markdown",
      "source": [
        "## 抓取政府電子採購網資料"
      ],
      "metadata": {
        "id": "ycYhgfQrNGRM"
      }
    },
    {
      "cell_type": "code",
      "source": [
        "url = 'https://web.pcc.gov.tw/prkms/tender/common/basic/readTenderBasic?firstSearch=true&searchType=basic&orgName=&orgId=&tenderName=&tenderId=&tenderType=TENDER_DECLARATION&tenderWay=TENDER_WAY_ALL_DECLARATION&dateType=isDate&tenderStartDate=2023%2F02%2F26&tenderEndDate=2023%2F03%2F04'"
      ],
      "metadata": {
        "id": "pMGrEsbQNEbx"
      },
      "execution_count": null,
      "outputs": []
    },
    {
      "cell_type": "code",
      "source": [
        "dfs = pd.read_html(url, encoding='utf-8')"
      ],
      "metadata": {
        "id": "98_7ztg5Ns0_"
      },
      "execution_count": null,
      "outputs": []
    },
    {
      "cell_type": "code",
      "source": [
        "dfs[4]['機關名稱']"
      ],
      "metadata": {
        "colab": {
          "base_uri": "https://localhost:8080/"
        },
        "id": "kI7h6XLtOhQf",
        "outputId": "c07f7611-53af-4872-b41d-c377d8a5a404"
      },
      "execution_count": null,
      "outputs": [
        {
          "output_type": "execute_result",
          "data": {
            "text/plain": [
              "0                    衛生福利部\n",
              "1                   國立成功大學\n",
              "2                 花蓮縣環境保護局\n",
              "3                海洋國家公園管理處\n",
              "4             屏東縣屏東市公館國民小學\n",
              "5                 國立陽明交通大學\n",
              "6          台灣電力股份有限公司協和發電廠\n",
              "7                 嘉義縣大埔鄉公所\n",
              "8        行政院農業委員會水土保持局南投分局\n",
              "9             國防部軍備局生產製造中心\n",
              "10                臺中市梧棲區公所\n",
              "11                桃園市楊梅區公所\n",
              "12            高雄市政府客家事務委員會\n",
              "13                嘉義縣大埔鄉公所\n",
              "14           行政院農業委員會農田水利署\n",
              "15                南投縣集集鎮公所\n",
              "16                臺北市政府工務局\n",
              "17                臺南市政府文化局\n",
              "18                   南投縣政府\n",
              "19                  高雄醫學大學\n",
              "20            桃園市立羅浮高級中等學校\n",
              "21            國防部軍備局生產製造中心\n",
              "22                花蓮縣豐濱鄉公所\n",
              "23            經濟部水利署北區水資源局\n",
              "24                嘉義市政府消防局\n",
              "25     國立臺灣大學醫學院附設醫院癌醫中心分院\n",
              "26                花蓮縣立南平中學\n",
              "27          台灣糖業股份有限公司虎尾糖廠\n",
              "28      行政院農業委員會林務局東勢林區管理處\n",
              "29       行政院農業委員會水土保持局臺中分局\n",
              "30       行政院農業委員會水土保持局臺中分局\n",
              "31              桃園市政府客家事務局\n",
              "32                高雄市立中醫醫院\n",
              "33              交通部臺灣鐵路管理局\n",
              "34            臺北市士林區雨農國民小學\n",
              "35                  國立聯合大學\n",
              "36                高雄市政府水利局\n",
              "37        台灣電力股份有限公司花蓮區營業處\n",
              "38    台灣中油股份有限公司煉製事業部桃園煉油廠\n",
              "39             臺北市泉源實驗國民小學\n",
              "40                新北市政府採購處\n",
              "41           臺北市政府工務局水利工程處\n",
              "42           臺北市政府工務局水利工程處\n",
              "43              臺北市立龍山國民中學\n",
              "44                國立傳統藝術中心\n",
              "45                  連江縣消防局\n",
              "46              臺北市立龍山國民中學\n",
              "47                臺北市政府主計處\n",
              "48            桃園市立壽山高級中等學校\n",
              "49              臺北市立大同高級中學\n",
              "Name: 機關名稱, dtype: object"
            ]
          },
          "metadata": {},
          "execution_count": 206
        }
      ]
    },
    {
      "cell_type": "markdown",
      "source": [
        "## 讀取政府資料開放平台實價登錄資料\n",
        "\n",
        "e.g.:\n",
        "\n",
        "https://data.kcg.gov.tw/dataset/d7bfc353-1617-42d8-a0e3-3cd2d99edb10/resource/20387f3d-6970-40a4-86f0-a5c33546e75d/download/111q2.csv"
      ],
      "metadata": {
        "id": "J86tIWIoUes8"
      }
    },
    {
      "cell_type": "code",
      "source": [
        "url = \"https://ws.fund.gov.tw/Download.ashx?u=LzAwMS9VcGxvYWQvOC9yZWxmaWxlLzExODExLzE5MjIzL2UxYWMwYTZhLWY5MTMtNDU2NC1hYjY1LTZjNjE2Njk4MTFlYi5jc3Y%3d&n=6YCA5pKr5Z%2b66YeR5bm05bqm57aT54ef5qaC5rOBLmNzdg%3d%3d\""
      ],
      "metadata": {
        "id": "lwD8LIVEUNfL"
      },
      "execution_count": null,
      "outputs": []
    },
    {
      "cell_type": "code",
      "source": [
        "df = pd.read_csv(url, encoding='BIG5')"
      ],
      "metadata": {
        "id": "e5GId3XYUso9"
      },
      "execution_count": null,
      "outputs": []
    },
    {
      "cell_type": "code",
      "source": [
        "df.head()"
      ],
      "metadata": {
        "colab": {
          "base_uri": "https://localhost:8080/",
          "height": 206
        },
        "id": "sS7u40-5U6nS",
        "outputId": "a93fd229-44cd-42fc-941f-ecc61c6d5bf9"
      },
      "execution_count": null,
      "outputs": [
        {
          "output_type": "execute_result",
          "data": {
            "text/plain": [
              "     年度           基金運用結餘數             整體收益數  整體收益率\n",
              "0  2012  509,350,502,236    29,811,132,854    6.17\n",
              "1  2013  553,686,669,011    42,768,224,587    8.30\n",
              "2  2014  586,523,738,615    35,646,340,940    6.50\n",
              "3  2015  565,325,731,882   -10,876,820,099   -1.94\n",
              "4  2016  570,109,758,528    23,693,114,405    4.29"
            ],
            "text/html": [
              "\n",
              "  <div id=\"df-6f9b2eef-252e-41c9-a6e7-03700113580e\">\n",
              "    <div class=\"colab-df-container\">\n",
              "      <div>\n",
              "<style scoped>\n",
              "    .dataframe tbody tr th:only-of-type {\n",
              "        vertical-align: middle;\n",
              "    }\n",
              "\n",
              "    .dataframe tbody tr th {\n",
              "        vertical-align: top;\n",
              "    }\n",
              "\n",
              "    .dataframe thead th {\n",
              "        text-align: right;\n",
              "    }\n",
              "</style>\n",
              "<table border=\"1\" class=\"dataframe\">\n",
              "  <thead>\n",
              "    <tr style=\"text-align: right;\">\n",
              "      <th></th>\n",
              "      <th>年度</th>\n",
              "      <th>基金運用結餘數</th>\n",
              "      <th>整體收益數</th>\n",
              "      <th>整體收益率</th>\n",
              "    </tr>\n",
              "  </thead>\n",
              "  <tbody>\n",
              "    <tr>\n",
              "      <th>0</th>\n",
              "      <td>2012</td>\n",
              "      <td>509,350,502,236</td>\n",
              "      <td>29,811,132,854</td>\n",
              "      <td>6.17</td>\n",
              "    </tr>\n",
              "    <tr>\n",
              "      <th>1</th>\n",
              "      <td>2013</td>\n",
              "      <td>553,686,669,011</td>\n",
              "      <td>42,768,224,587</td>\n",
              "      <td>8.30</td>\n",
              "    </tr>\n",
              "    <tr>\n",
              "      <th>2</th>\n",
              "      <td>2014</td>\n",
              "      <td>586,523,738,615</td>\n",
              "      <td>35,646,340,940</td>\n",
              "      <td>6.50</td>\n",
              "    </tr>\n",
              "    <tr>\n",
              "      <th>3</th>\n",
              "      <td>2015</td>\n",
              "      <td>565,325,731,882</td>\n",
              "      <td>-10,876,820,099</td>\n",
              "      <td>-1.94</td>\n",
              "    </tr>\n",
              "    <tr>\n",
              "      <th>4</th>\n",
              "      <td>2016</td>\n",
              "      <td>570,109,758,528</td>\n",
              "      <td>23,693,114,405</td>\n",
              "      <td>4.29</td>\n",
              "    </tr>\n",
              "  </tbody>\n",
              "</table>\n",
              "</div>\n",
              "      <button class=\"colab-df-convert\" onclick=\"convertToInteractive('df-6f9b2eef-252e-41c9-a6e7-03700113580e')\"\n",
              "              title=\"Convert this dataframe to an interactive table.\"\n",
              "              style=\"display:none;\">\n",
              "        \n",
              "  <svg xmlns=\"http://www.w3.org/2000/svg\" height=\"24px\"viewBox=\"0 0 24 24\"\n",
              "       width=\"24px\">\n",
              "    <path d=\"M0 0h24v24H0V0z\" fill=\"none\"/>\n",
              "    <path d=\"M18.56 5.44l.94 2.06.94-2.06 2.06-.94-2.06-.94-.94-2.06-.94 2.06-2.06.94zm-11 1L8.5 8.5l.94-2.06 2.06-.94-2.06-.94L8.5 2.5l-.94 2.06-2.06.94zm10 10l.94 2.06.94-2.06 2.06-.94-2.06-.94-.94-2.06-.94 2.06-2.06.94z\"/><path d=\"M17.41 7.96l-1.37-1.37c-.4-.4-.92-.59-1.43-.59-.52 0-1.04.2-1.43.59L10.3 9.45l-7.72 7.72c-.78.78-.78 2.05 0 2.83L4 21.41c.39.39.9.59 1.41.59.51 0 1.02-.2 1.41-.59l7.78-7.78 2.81-2.81c.8-.78.8-2.07 0-2.86zM5.41 20L4 18.59l7.72-7.72 1.47 1.35L5.41 20z\"/>\n",
              "  </svg>\n",
              "      </button>\n",
              "      \n",
              "  <style>\n",
              "    .colab-df-container {\n",
              "      display:flex;\n",
              "      flex-wrap:wrap;\n",
              "      gap: 12px;\n",
              "    }\n",
              "\n",
              "    .colab-df-convert {\n",
              "      background-color: #E8F0FE;\n",
              "      border: none;\n",
              "      border-radius: 50%;\n",
              "      cursor: pointer;\n",
              "      display: none;\n",
              "      fill: #1967D2;\n",
              "      height: 32px;\n",
              "      padding: 0 0 0 0;\n",
              "      width: 32px;\n",
              "    }\n",
              "\n",
              "    .colab-df-convert:hover {\n",
              "      background-color: #E2EBFA;\n",
              "      box-shadow: 0px 1px 2px rgba(60, 64, 67, 0.3), 0px 1px 3px 1px rgba(60, 64, 67, 0.15);\n",
              "      fill: #174EA6;\n",
              "    }\n",
              "\n",
              "    [theme=dark] .colab-df-convert {\n",
              "      background-color: #3B4455;\n",
              "      fill: #D2E3FC;\n",
              "    }\n",
              "\n",
              "    [theme=dark] .colab-df-convert:hover {\n",
              "      background-color: #434B5C;\n",
              "      box-shadow: 0px 1px 3px 1px rgba(0, 0, 0, 0.15);\n",
              "      filter: drop-shadow(0px 1px 2px rgba(0, 0, 0, 0.3));\n",
              "      fill: #FFFFFF;\n",
              "    }\n",
              "  </style>\n",
              "\n",
              "      <script>\n",
              "        const buttonEl =\n",
              "          document.querySelector('#df-6f9b2eef-252e-41c9-a6e7-03700113580e button.colab-df-convert');\n",
              "        buttonEl.style.display =\n",
              "          google.colab.kernel.accessAllowed ? 'block' : 'none';\n",
              "\n",
              "        async function convertToInteractive(key) {\n",
              "          const element = document.querySelector('#df-6f9b2eef-252e-41c9-a6e7-03700113580e');\n",
              "          const dataTable =\n",
              "            await google.colab.kernel.invokeFunction('convertToInteractive',\n",
              "                                                     [key], {});\n",
              "          if (!dataTable) return;\n",
              "\n",
              "          const docLinkHtml = 'Like what you see? Visit the ' +\n",
              "            '<a target=\"_blank\" href=https://colab.research.google.com/notebooks/data_table.ipynb>data table notebook</a>'\n",
              "            + ' to learn more about interactive tables.';\n",
              "          element.innerHTML = '';\n",
              "          dataTable['output_type'] = 'display_data';\n",
              "          await google.colab.output.renderOutput(dataTable, element);\n",
              "          const docLink = document.createElement('div');\n",
              "          docLink.innerHTML = docLinkHtml;\n",
              "          element.appendChild(docLink);\n",
              "        }\n",
              "      </script>\n",
              "    </div>\n",
              "  </div>\n",
              "  "
            ]
          },
          "metadata": {},
          "execution_count": 232
        }
      ]
    },
    {
      "cell_type": "markdown",
      "source": [
        "### 將 DataFrame 轉存成不同格式"
      ],
      "metadata": {
        "id": "tRAMmGjWYqhe"
      }
    },
    {
      "cell_type": "code",
      "source": [
        "df.to_excel('實價登錄資料.xlsx')"
      ],
      "metadata": {
        "id": "wbxwEhH3YSa3"
      },
      "execution_count": null,
      "outputs": []
    },
    {
      "cell_type": "code",
      "source": [
        "df.head(100).to_html('實價登錄前一百筆資料.html')"
      ],
      "metadata": {
        "id": "43upeFa2YfYu"
      },
      "execution_count": null,
      "outputs": []
    },
    {
      "cell_type": "code",
      "source": [
        "df.head(100).to_json('實價登錄前一百筆資料.json')"
      ],
      "metadata": {
        "id": "Ml6z72a9YkEh"
      },
      "execution_count": null,
      "outputs": []
    },
    {
      "cell_type": "markdown",
      "source": [
        "## 檔案的IO\n",
        "\n",
        "檔案可以分成文字檔和二進位檔"
      ],
      "metadata": {
        "id": "MOXQr17xYwU0"
      }
    },
    {
      "cell_type": "markdown",
      "source": [
        "### 文字檔\n",
        "\n",
        "在Python寫入檔案，有兩種方式\n",
        "\n",
        "一般做法\n",
        "```Python\n",
        "f = open('檔案名稱.txt', mode='w')\n",
        "f.write(寫入內容)\n",
        "f.close()\n",
        "```\n",
        "\n",
        "代替做法\n",
        "```Python\n",
        "with open('檔案名稱.txt', mode='w') as f:\n",
        "  f.write(寫入內容)\n",
        "```\n",
        "\n",
        "\n",
        "\n"
      ],
      "metadata": {
        "id": "kg1B1D3lY0sv"
      }
    },
    {
      "cell_type": "markdown",
      "source": [
        "### 二進位檔\n",
        "\n",
        "例如圖片, excel檔等\n",
        "\n",
        "二進位要用rb或wb\n",
        "\n",
        "rb、wb：分別於r,w類似，但是用於讀寫二進制文件\n",
        "\n",
        "一般做法\n",
        "```Python\n",
        "f = open('檔案名稱.jpg', mode='wb')\n",
        "f.write(寫入內容)\n",
        "f.close()\n",
        "```\n",
        "\n",
        "代替做法\n",
        "```Python\n",
        "with open('檔案名稱.jpg', mode='wb') as f:\n",
        "  f.write(寫入內容)\n",
        "```"
      ],
      "metadata": {
        "id": "POZ3KbdqY8aA"
      }
    },
    {
      "cell_type": "markdown",
      "source": [
        "### 抓取網頁原始碼並存成文字檔"
      ],
      "metadata": {
        "id": "LvBLps3SajLo"
      }
    },
    {
      "cell_type": "code",
      "source": [
        "url = 'https://victorgau.github.io/khpy_web_intro/html_only.html'"
      ],
      "metadata": {
        "id": "dOU1sXiWaiI4"
      },
      "execution_count": null,
      "outputs": []
    },
    {
      "cell_type": "code",
      "source": [
        "r = requests.get(url)"
      ],
      "metadata": {
        "id": "MUNJ9vUQaiGB"
      },
      "execution_count": null,
      "outputs": []
    },
    {
      "cell_type": "code",
      "source": [
        "with open('index.html', 'w') as f:\n",
        "  # 原始碼要用text讀取\n",
        "  f.write(r.text)"
      ],
      "metadata": {
        "id": "KTwZEdRFayaU"
      },
      "execution_count": null,
      "outputs": []
    },
    {
      "cell_type": "markdown",
      "source": [
        "### 抓取網頁圖片並存成圖片檔"
      ],
      "metadata": {
        "id": "BO4O3jC7bIPM"
      }
    },
    {
      "cell_type": "code",
      "source": [
        "url = 'https://victorgau.github.io/khpy_web_intro/ninja.jpg'"
      ],
      "metadata": {
        "id": "MjiYMDs9bN0z"
      },
      "execution_count": null,
      "outputs": []
    },
    {
      "cell_type": "code",
      "source": [
        "r = requests.get(url)"
      ],
      "metadata": {
        "id": "a02m5ldAbRkI"
      },
      "execution_count": null,
      "outputs": []
    },
    {
      "cell_type": "code",
      "source": [
        "with open('ninja.jpg', 'wb') as f:\n",
        "  # 二進位要用content讀取\n",
        "  f.write(r.content)"
      ],
      "metadata": {
        "id": "5wpcft6cbUzg"
      },
      "execution_count": null,
      "outputs": []
    },
    {
      "cell_type": "markdown",
      "source": [
        "## Pandas"
      ],
      "metadata": {
        "id": "N9LE6Z30iNge"
      }
    },
    {
      "cell_type": "code",
      "source": [
        "import numpy as np\n",
        "import pandas as pd"
      ],
      "metadata": {
        "id": "vXr3D7V6iQTx"
      },
      "execution_count": null,
      "outputs": []
    },
    {
      "cell_type": "code",
      "source": [
        "# 亂數取得30到100的10x4二維陣列\n",
        "grades = np.random.randint(30, 101, (10, 4))"
      ],
      "metadata": {
        "id": "G7pAbM45ia7K"
      },
      "execution_count": null,
      "outputs": []
    },
    {
      "cell_type": "code",
      "source": [
        "grades"
      ],
      "metadata": {
        "colab": {
          "base_uri": "https://localhost:8080/"
        },
        "id": "WN_XjaCti5Xg",
        "outputId": "7631b300-76ed-41e9-9d0d-e5a188c085fd"
      },
      "execution_count": null,
      "outputs": [
        {
          "output_type": "execute_result",
          "data": {
            "text/plain": [
              "array([[99, 59, 92, 64],\n",
              "       [58, 62, 44, 91],\n",
              "       [89, 55, 79, 66],\n",
              "       [38, 56, 52, 36],\n",
              "       [73, 93, 43, 81],\n",
              "       [47, 63, 83, 81],\n",
              "       [71, 46, 71, 66],\n",
              "       [56, 53, 59, 67],\n",
              "       [78, 95, 69, 71],\n",
              "       [95, 98, 96, 67]])"
            ]
          },
          "metadata": {},
          "execution_count": 254
        }
      ]
    },
    {
      "cell_type": "code",
      "source": [
        "df = pd.DataFrame(grades)"
      ],
      "metadata": {
        "id": "viD-Dsr3jFob"
      },
      "execution_count": null,
      "outputs": []
    },
    {
      "cell_type": "code",
      "source": [
        "# 設定欄名稱\n",
        "df.columns = ['國文', '數學', '英文', '理化']"
      ],
      "metadata": {
        "id": "YbQYlQTIjTB5"
      },
      "execution_count": null,
      "outputs": []
    },
    {
      "cell_type": "code",
      "source": [
        "# 設定列的名稱\n",
        "df.index = [\"郭雅惠\",\"陳欣虹\",\"王孟修\",\"李政勇\", \"陳仲燦\",\"王寧東\",\"楊雅名\",\"藍冰啟\",\"林玉亨\",\"崔承睿\"]"
      ],
      "metadata": {
        "id": "U2exS5PJjrLx"
      },
      "execution_count": null,
      "outputs": []
    },
    {
      "cell_type": "markdown",
      "source": [
        "### 列出國文不及格的同學"
      ],
      "metadata": {
        "id": "oMoYR_EKkZvJ"
      }
    },
    {
      "cell_type": "code",
      "source": [
        "df[df['國文'] < 60]"
      ],
      "metadata": {
        "colab": {
          "base_uri": "https://localhost:8080/",
          "height": 175
        },
        "id": "37GomJYXkTGO",
        "outputId": "25433b2d-dd97-4b58-ff74-1ae3856d98bf"
      },
      "execution_count": null,
      "outputs": [
        {
          "output_type": "execute_result",
          "data": {
            "text/plain": [
              "     國文  數學  英文  理化\n",
              "陳欣虹  58  62  44  91\n",
              "李政勇  38  56  52  36\n",
              "王寧東  47  63  83  81\n",
              "藍冰啟  56  53  59  67"
            ],
            "text/html": [
              "\n",
              "  <div id=\"df-21ce6e42-8511-4879-a47c-35b05b456b75\">\n",
              "    <div class=\"colab-df-container\">\n",
              "      <div>\n",
              "<style scoped>\n",
              "    .dataframe tbody tr th:only-of-type {\n",
              "        vertical-align: middle;\n",
              "    }\n",
              "\n",
              "    .dataframe tbody tr th {\n",
              "        vertical-align: top;\n",
              "    }\n",
              "\n",
              "    .dataframe thead th {\n",
              "        text-align: right;\n",
              "    }\n",
              "</style>\n",
              "<table border=\"1\" class=\"dataframe\">\n",
              "  <thead>\n",
              "    <tr style=\"text-align: right;\">\n",
              "      <th></th>\n",
              "      <th>國文</th>\n",
              "      <th>數學</th>\n",
              "      <th>英文</th>\n",
              "      <th>理化</th>\n",
              "    </tr>\n",
              "  </thead>\n",
              "  <tbody>\n",
              "    <tr>\n",
              "      <th>陳欣虹</th>\n",
              "      <td>58</td>\n",
              "      <td>62</td>\n",
              "      <td>44</td>\n",
              "      <td>91</td>\n",
              "    </tr>\n",
              "    <tr>\n",
              "      <th>李政勇</th>\n",
              "      <td>38</td>\n",
              "      <td>56</td>\n",
              "      <td>52</td>\n",
              "      <td>36</td>\n",
              "    </tr>\n",
              "    <tr>\n",
              "      <th>王寧東</th>\n",
              "      <td>47</td>\n",
              "      <td>63</td>\n",
              "      <td>83</td>\n",
              "      <td>81</td>\n",
              "    </tr>\n",
              "    <tr>\n",
              "      <th>藍冰啟</th>\n",
              "      <td>56</td>\n",
              "      <td>53</td>\n",
              "      <td>59</td>\n",
              "      <td>67</td>\n",
              "    </tr>\n",
              "  </tbody>\n",
              "</table>\n",
              "</div>\n",
              "      <button class=\"colab-df-convert\" onclick=\"convertToInteractive('df-21ce6e42-8511-4879-a47c-35b05b456b75')\"\n",
              "              title=\"Convert this dataframe to an interactive table.\"\n",
              "              style=\"display:none;\">\n",
              "        \n",
              "  <svg xmlns=\"http://www.w3.org/2000/svg\" height=\"24px\"viewBox=\"0 0 24 24\"\n",
              "       width=\"24px\">\n",
              "    <path d=\"M0 0h24v24H0V0z\" fill=\"none\"/>\n",
              "    <path d=\"M18.56 5.44l.94 2.06.94-2.06 2.06-.94-2.06-.94-.94-2.06-.94 2.06-2.06.94zm-11 1L8.5 8.5l.94-2.06 2.06-.94-2.06-.94L8.5 2.5l-.94 2.06-2.06.94zm10 10l.94 2.06.94-2.06 2.06-.94-2.06-.94-.94-2.06-.94 2.06-2.06.94z\"/><path d=\"M17.41 7.96l-1.37-1.37c-.4-.4-.92-.59-1.43-.59-.52 0-1.04.2-1.43.59L10.3 9.45l-7.72 7.72c-.78.78-.78 2.05 0 2.83L4 21.41c.39.39.9.59 1.41.59.51 0 1.02-.2 1.41-.59l7.78-7.78 2.81-2.81c.8-.78.8-2.07 0-2.86zM5.41 20L4 18.59l7.72-7.72 1.47 1.35L5.41 20z\"/>\n",
              "  </svg>\n",
              "      </button>\n",
              "      \n",
              "  <style>\n",
              "    .colab-df-container {\n",
              "      display:flex;\n",
              "      flex-wrap:wrap;\n",
              "      gap: 12px;\n",
              "    }\n",
              "\n",
              "    .colab-df-convert {\n",
              "      background-color: #E8F0FE;\n",
              "      border: none;\n",
              "      border-radius: 50%;\n",
              "      cursor: pointer;\n",
              "      display: none;\n",
              "      fill: #1967D2;\n",
              "      height: 32px;\n",
              "      padding: 0 0 0 0;\n",
              "      width: 32px;\n",
              "    }\n",
              "\n",
              "    .colab-df-convert:hover {\n",
              "      background-color: #E2EBFA;\n",
              "      box-shadow: 0px 1px 2px rgba(60, 64, 67, 0.3), 0px 1px 3px 1px rgba(60, 64, 67, 0.15);\n",
              "      fill: #174EA6;\n",
              "    }\n",
              "\n",
              "    [theme=dark] .colab-df-convert {\n",
              "      background-color: #3B4455;\n",
              "      fill: #D2E3FC;\n",
              "    }\n",
              "\n",
              "    [theme=dark] .colab-df-convert:hover {\n",
              "      background-color: #434B5C;\n",
              "      box-shadow: 0px 1px 3px 1px rgba(0, 0, 0, 0.15);\n",
              "      filter: drop-shadow(0px 1px 2px rgba(0, 0, 0, 0.3));\n",
              "      fill: #FFFFFF;\n",
              "    }\n",
              "  </style>\n",
              "\n",
              "      <script>\n",
              "        const buttonEl =\n",
              "          document.querySelector('#df-21ce6e42-8511-4879-a47c-35b05b456b75 button.colab-df-convert');\n",
              "        buttonEl.style.display =\n",
              "          google.colab.kernel.accessAllowed ? 'block' : 'none';\n",
              "\n",
              "        async function convertToInteractive(key) {\n",
              "          const element = document.querySelector('#df-21ce6e42-8511-4879-a47c-35b05b456b75');\n",
              "          const dataTable =\n",
              "            await google.colab.kernel.invokeFunction('convertToInteractive',\n",
              "                                                     [key], {});\n",
              "          if (!dataTable) return;\n",
              "\n",
              "          const docLinkHtml = 'Like what you see? Visit the ' +\n",
              "            '<a target=\"_blank\" href=https://colab.research.google.com/notebooks/data_table.ipynb>data table notebook</a>'\n",
              "            + ' to learn more about interactive tables.';\n",
              "          element.innerHTML = '';\n",
              "          dataTable['output_type'] = 'display_data';\n",
              "          await google.colab.output.renderOutput(dataTable, element);\n",
              "          const docLink = document.createElement('div');\n",
              "          docLink.innerHTML = docLinkHtml;\n",
              "          element.appendChild(docLink);\n",
              "        }\n",
              "      </script>\n",
              "    </div>\n",
              "  </div>\n",
              "  "
            ]
          },
          "metadata": {},
          "execution_count": 266
        }
      ]
    },
    {
      "cell_type": "markdown",
      "source": [
        "### 列出國文和英文都不及格的同學"
      ],
      "metadata": {
        "id": "6GYiuyw4lFgV"
      }
    },
    {
      "cell_type": "code",
      "source": [
        "df[(df['國文'] < 60) & (df['英文'] < 60)]"
      ],
      "metadata": {
        "colab": {
          "base_uri": "https://localhost:8080/",
          "height": 143
        },
        "id": "nqR6dOlOlMls",
        "outputId": "08a74f13-3cca-4564-f343-e12946af70bc"
      },
      "execution_count": null,
      "outputs": [
        {
          "output_type": "execute_result",
          "data": {
            "text/plain": [
              "     國文  數學  英文  理化\n",
              "陳欣虹  58  62  44  91\n",
              "李政勇  38  56  52  36\n",
              "藍冰啟  56  53  59  67"
            ],
            "text/html": [
              "\n",
              "  <div id=\"df-8eeff5e0-1221-48f6-8a60-2265ba10d8d0\">\n",
              "    <div class=\"colab-df-container\">\n",
              "      <div>\n",
              "<style scoped>\n",
              "    .dataframe tbody tr th:only-of-type {\n",
              "        vertical-align: middle;\n",
              "    }\n",
              "\n",
              "    .dataframe tbody tr th {\n",
              "        vertical-align: top;\n",
              "    }\n",
              "\n",
              "    .dataframe thead th {\n",
              "        text-align: right;\n",
              "    }\n",
              "</style>\n",
              "<table border=\"1\" class=\"dataframe\">\n",
              "  <thead>\n",
              "    <tr style=\"text-align: right;\">\n",
              "      <th></th>\n",
              "      <th>國文</th>\n",
              "      <th>數學</th>\n",
              "      <th>英文</th>\n",
              "      <th>理化</th>\n",
              "    </tr>\n",
              "  </thead>\n",
              "  <tbody>\n",
              "    <tr>\n",
              "      <th>陳欣虹</th>\n",
              "      <td>58</td>\n",
              "      <td>62</td>\n",
              "      <td>44</td>\n",
              "      <td>91</td>\n",
              "    </tr>\n",
              "    <tr>\n",
              "      <th>李政勇</th>\n",
              "      <td>38</td>\n",
              "      <td>56</td>\n",
              "      <td>52</td>\n",
              "      <td>36</td>\n",
              "    </tr>\n",
              "    <tr>\n",
              "      <th>藍冰啟</th>\n",
              "      <td>56</td>\n",
              "      <td>53</td>\n",
              "      <td>59</td>\n",
              "      <td>67</td>\n",
              "    </tr>\n",
              "  </tbody>\n",
              "</table>\n",
              "</div>\n",
              "      <button class=\"colab-df-convert\" onclick=\"convertToInteractive('df-8eeff5e0-1221-48f6-8a60-2265ba10d8d0')\"\n",
              "              title=\"Convert this dataframe to an interactive table.\"\n",
              "              style=\"display:none;\">\n",
              "        \n",
              "  <svg xmlns=\"http://www.w3.org/2000/svg\" height=\"24px\"viewBox=\"0 0 24 24\"\n",
              "       width=\"24px\">\n",
              "    <path d=\"M0 0h24v24H0V0z\" fill=\"none\"/>\n",
              "    <path d=\"M18.56 5.44l.94 2.06.94-2.06 2.06-.94-2.06-.94-.94-2.06-.94 2.06-2.06.94zm-11 1L8.5 8.5l.94-2.06 2.06-.94-2.06-.94L8.5 2.5l-.94 2.06-2.06.94zm10 10l.94 2.06.94-2.06 2.06-.94-2.06-.94-.94-2.06-.94 2.06-2.06.94z\"/><path d=\"M17.41 7.96l-1.37-1.37c-.4-.4-.92-.59-1.43-.59-.52 0-1.04.2-1.43.59L10.3 9.45l-7.72 7.72c-.78.78-.78 2.05 0 2.83L4 21.41c.39.39.9.59 1.41.59.51 0 1.02-.2 1.41-.59l7.78-7.78 2.81-2.81c.8-.78.8-2.07 0-2.86zM5.41 20L4 18.59l7.72-7.72 1.47 1.35L5.41 20z\"/>\n",
              "  </svg>\n",
              "      </button>\n",
              "      \n",
              "  <style>\n",
              "    .colab-df-container {\n",
              "      display:flex;\n",
              "      flex-wrap:wrap;\n",
              "      gap: 12px;\n",
              "    }\n",
              "\n",
              "    .colab-df-convert {\n",
              "      background-color: #E8F0FE;\n",
              "      border: none;\n",
              "      border-radius: 50%;\n",
              "      cursor: pointer;\n",
              "      display: none;\n",
              "      fill: #1967D2;\n",
              "      height: 32px;\n",
              "      padding: 0 0 0 0;\n",
              "      width: 32px;\n",
              "    }\n",
              "\n",
              "    .colab-df-convert:hover {\n",
              "      background-color: #E2EBFA;\n",
              "      box-shadow: 0px 1px 2px rgba(60, 64, 67, 0.3), 0px 1px 3px 1px rgba(60, 64, 67, 0.15);\n",
              "      fill: #174EA6;\n",
              "    }\n",
              "\n",
              "    [theme=dark] .colab-df-convert {\n",
              "      background-color: #3B4455;\n",
              "      fill: #D2E3FC;\n",
              "    }\n",
              "\n",
              "    [theme=dark] .colab-df-convert:hover {\n",
              "      background-color: #434B5C;\n",
              "      box-shadow: 0px 1px 3px 1px rgba(0, 0, 0, 0.15);\n",
              "      filter: drop-shadow(0px 1px 2px rgba(0, 0, 0, 0.3));\n",
              "      fill: #FFFFFF;\n",
              "    }\n",
              "  </style>\n",
              "\n",
              "      <script>\n",
              "        const buttonEl =\n",
              "          document.querySelector('#df-8eeff5e0-1221-48f6-8a60-2265ba10d8d0 button.colab-df-convert');\n",
              "        buttonEl.style.display =\n",
              "          google.colab.kernel.accessAllowed ? 'block' : 'none';\n",
              "\n",
              "        async function convertToInteractive(key) {\n",
              "          const element = document.querySelector('#df-8eeff5e0-1221-48f6-8a60-2265ba10d8d0');\n",
              "          const dataTable =\n",
              "            await google.colab.kernel.invokeFunction('convertToInteractive',\n",
              "                                                     [key], {});\n",
              "          if (!dataTable) return;\n",
              "\n",
              "          const docLinkHtml = 'Like what you see? Visit the ' +\n",
              "            '<a target=\"_blank\" href=https://colab.research.google.com/notebooks/data_table.ipynb>data table notebook</a>'\n",
              "            + ' to learn more about interactive tables.';\n",
              "          element.innerHTML = '';\n",
              "          dataTable['output_type'] = 'display_data';\n",
              "          await google.colab.output.renderOutput(dataTable, element);\n",
              "          const docLink = document.createElement('div');\n",
              "          docLink.innerHTML = docLinkHtml;\n",
              "          element.appendChild(docLink);\n",
              "        }\n",
              "      </script>\n",
              "    </div>\n",
              "  </div>\n",
              "  "
            ]
          },
          "metadata": {},
          "execution_count": 268
        }
      ]
    },
    {
      "cell_type": "markdown",
      "source": [
        "### 計算總分與平均"
      ],
      "metadata": {
        "id": "HQnJipnkmCoj"
      }
    },
    {
      "cell_type": "code",
      "source": [
        "df['總分'] = df.sum(axis = 1)"
      ],
      "metadata": {
        "id": "2e1JFbuRmHMV"
      },
      "execution_count": 271,
      "outputs": []
    },
    {
      "cell_type": "code",
      "source": [
        "df['平均'] = df[['國文', '數學', '英文', '理化']].mean(axis = 1)"
      ],
      "metadata": {
        "id": "n94tvb5Nmz38"
      },
      "execution_count": 276,
      "outputs": []
    },
    {
      "cell_type": "code",
      "source": [
        "df"
      ],
      "metadata": {
        "colab": {
          "base_uri": "https://localhost:8080/",
          "height": 363
        },
        "id": "L4gKzjBfmv7X",
        "outputId": "5856d67d-80fd-420a-8f19-380f0ea412e4"
      },
      "execution_count": 277,
      "outputs": [
        {
          "output_type": "execute_result",
          "data": {
            "text/plain": [
              "     國文  數學  英文  理化   總分     平均\n",
              "郭雅惠  99  59  92  64  314  78.50\n",
              "陳欣虹  58  62  44  91  255  63.75\n",
              "王孟修  89  55  79  66  289  72.25\n",
              "李政勇  38  56  52  36  182  45.50\n",
              "陳仲燦  73  93  43  81  290  72.50\n",
              "王寧東  47  63  83  81  274  68.50\n",
              "楊雅名  71  46  71  66  254  63.50\n",
              "藍冰啟  56  53  59  67  235  58.75\n",
              "林玉亨  78  95  69  71  313  78.25\n",
              "崔承睿  95  98  96  67  356  89.00"
            ],
            "text/html": [
              "\n",
              "  <div id=\"df-23054ff9-0187-4334-8dac-4daf4cd2ce2b\">\n",
              "    <div class=\"colab-df-container\">\n",
              "      <div>\n",
              "<style scoped>\n",
              "    .dataframe tbody tr th:only-of-type {\n",
              "        vertical-align: middle;\n",
              "    }\n",
              "\n",
              "    .dataframe tbody tr th {\n",
              "        vertical-align: top;\n",
              "    }\n",
              "\n",
              "    .dataframe thead th {\n",
              "        text-align: right;\n",
              "    }\n",
              "</style>\n",
              "<table border=\"1\" class=\"dataframe\">\n",
              "  <thead>\n",
              "    <tr style=\"text-align: right;\">\n",
              "      <th></th>\n",
              "      <th>國文</th>\n",
              "      <th>數學</th>\n",
              "      <th>英文</th>\n",
              "      <th>理化</th>\n",
              "      <th>總分</th>\n",
              "      <th>平均</th>\n",
              "    </tr>\n",
              "  </thead>\n",
              "  <tbody>\n",
              "    <tr>\n",
              "      <th>郭雅惠</th>\n",
              "      <td>99</td>\n",
              "      <td>59</td>\n",
              "      <td>92</td>\n",
              "      <td>64</td>\n",
              "      <td>314</td>\n",
              "      <td>78.50</td>\n",
              "    </tr>\n",
              "    <tr>\n",
              "      <th>陳欣虹</th>\n",
              "      <td>58</td>\n",
              "      <td>62</td>\n",
              "      <td>44</td>\n",
              "      <td>91</td>\n",
              "      <td>255</td>\n",
              "      <td>63.75</td>\n",
              "    </tr>\n",
              "    <tr>\n",
              "      <th>王孟修</th>\n",
              "      <td>89</td>\n",
              "      <td>55</td>\n",
              "      <td>79</td>\n",
              "      <td>66</td>\n",
              "      <td>289</td>\n",
              "      <td>72.25</td>\n",
              "    </tr>\n",
              "    <tr>\n",
              "      <th>李政勇</th>\n",
              "      <td>38</td>\n",
              "      <td>56</td>\n",
              "      <td>52</td>\n",
              "      <td>36</td>\n",
              "      <td>182</td>\n",
              "      <td>45.50</td>\n",
              "    </tr>\n",
              "    <tr>\n",
              "      <th>陳仲燦</th>\n",
              "      <td>73</td>\n",
              "      <td>93</td>\n",
              "      <td>43</td>\n",
              "      <td>81</td>\n",
              "      <td>290</td>\n",
              "      <td>72.50</td>\n",
              "    </tr>\n",
              "    <tr>\n",
              "      <th>王寧東</th>\n",
              "      <td>47</td>\n",
              "      <td>63</td>\n",
              "      <td>83</td>\n",
              "      <td>81</td>\n",
              "      <td>274</td>\n",
              "      <td>68.50</td>\n",
              "    </tr>\n",
              "    <tr>\n",
              "      <th>楊雅名</th>\n",
              "      <td>71</td>\n",
              "      <td>46</td>\n",
              "      <td>71</td>\n",
              "      <td>66</td>\n",
              "      <td>254</td>\n",
              "      <td>63.50</td>\n",
              "    </tr>\n",
              "    <tr>\n",
              "      <th>藍冰啟</th>\n",
              "      <td>56</td>\n",
              "      <td>53</td>\n",
              "      <td>59</td>\n",
              "      <td>67</td>\n",
              "      <td>235</td>\n",
              "      <td>58.75</td>\n",
              "    </tr>\n",
              "    <tr>\n",
              "      <th>林玉亨</th>\n",
              "      <td>78</td>\n",
              "      <td>95</td>\n",
              "      <td>69</td>\n",
              "      <td>71</td>\n",
              "      <td>313</td>\n",
              "      <td>78.25</td>\n",
              "    </tr>\n",
              "    <tr>\n",
              "      <th>崔承睿</th>\n",
              "      <td>95</td>\n",
              "      <td>98</td>\n",
              "      <td>96</td>\n",
              "      <td>67</td>\n",
              "      <td>356</td>\n",
              "      <td>89.00</td>\n",
              "    </tr>\n",
              "  </tbody>\n",
              "</table>\n",
              "</div>\n",
              "      <button class=\"colab-df-convert\" onclick=\"convertToInteractive('df-23054ff9-0187-4334-8dac-4daf4cd2ce2b')\"\n",
              "              title=\"Convert this dataframe to an interactive table.\"\n",
              "              style=\"display:none;\">\n",
              "        \n",
              "  <svg xmlns=\"http://www.w3.org/2000/svg\" height=\"24px\"viewBox=\"0 0 24 24\"\n",
              "       width=\"24px\">\n",
              "    <path d=\"M0 0h24v24H0V0z\" fill=\"none\"/>\n",
              "    <path d=\"M18.56 5.44l.94 2.06.94-2.06 2.06-.94-2.06-.94-.94-2.06-.94 2.06-2.06.94zm-11 1L8.5 8.5l.94-2.06 2.06-.94-2.06-.94L8.5 2.5l-.94 2.06-2.06.94zm10 10l.94 2.06.94-2.06 2.06-.94-2.06-.94-.94-2.06-.94 2.06-2.06.94z\"/><path d=\"M17.41 7.96l-1.37-1.37c-.4-.4-.92-.59-1.43-.59-.52 0-1.04.2-1.43.59L10.3 9.45l-7.72 7.72c-.78.78-.78 2.05 0 2.83L4 21.41c.39.39.9.59 1.41.59.51 0 1.02-.2 1.41-.59l7.78-7.78 2.81-2.81c.8-.78.8-2.07 0-2.86zM5.41 20L4 18.59l7.72-7.72 1.47 1.35L5.41 20z\"/>\n",
              "  </svg>\n",
              "      </button>\n",
              "      \n",
              "  <style>\n",
              "    .colab-df-container {\n",
              "      display:flex;\n",
              "      flex-wrap:wrap;\n",
              "      gap: 12px;\n",
              "    }\n",
              "\n",
              "    .colab-df-convert {\n",
              "      background-color: #E8F0FE;\n",
              "      border: none;\n",
              "      border-radius: 50%;\n",
              "      cursor: pointer;\n",
              "      display: none;\n",
              "      fill: #1967D2;\n",
              "      height: 32px;\n",
              "      padding: 0 0 0 0;\n",
              "      width: 32px;\n",
              "    }\n",
              "\n",
              "    .colab-df-convert:hover {\n",
              "      background-color: #E2EBFA;\n",
              "      box-shadow: 0px 1px 2px rgba(60, 64, 67, 0.3), 0px 1px 3px 1px rgba(60, 64, 67, 0.15);\n",
              "      fill: #174EA6;\n",
              "    }\n",
              "\n",
              "    [theme=dark] .colab-df-convert {\n",
              "      background-color: #3B4455;\n",
              "      fill: #D2E3FC;\n",
              "    }\n",
              "\n",
              "    [theme=dark] .colab-df-convert:hover {\n",
              "      background-color: #434B5C;\n",
              "      box-shadow: 0px 1px 3px 1px rgba(0, 0, 0, 0.15);\n",
              "      filter: drop-shadow(0px 1px 2px rgba(0, 0, 0, 0.3));\n",
              "      fill: #FFFFFF;\n",
              "    }\n",
              "  </style>\n",
              "\n",
              "      <script>\n",
              "        const buttonEl =\n",
              "          document.querySelector('#df-23054ff9-0187-4334-8dac-4daf4cd2ce2b button.colab-df-convert');\n",
              "        buttonEl.style.display =\n",
              "          google.colab.kernel.accessAllowed ? 'block' : 'none';\n",
              "\n",
              "        async function convertToInteractive(key) {\n",
              "          const element = document.querySelector('#df-23054ff9-0187-4334-8dac-4daf4cd2ce2b');\n",
              "          const dataTable =\n",
              "            await google.colab.kernel.invokeFunction('convertToInteractive',\n",
              "                                                     [key], {});\n",
              "          if (!dataTable) return;\n",
              "\n",
              "          const docLinkHtml = 'Like what you see? Visit the ' +\n",
              "            '<a target=\"_blank\" href=https://colab.research.google.com/notebooks/data_table.ipynb>data table notebook</a>'\n",
              "            + ' to learn more about interactive tables.';\n",
              "          element.innerHTML = '';\n",
              "          dataTable['output_type'] = 'display_data';\n",
              "          await google.colab.output.renderOutput(dataTable, element);\n",
              "          const docLink = document.createElement('div');\n",
              "          docLink.innerHTML = docLinkHtml;\n",
              "          element.appendChild(docLink);\n",
              "        }\n",
              "      </script>\n",
              "    </div>\n",
              "  </div>\n",
              "  "
            ]
          },
          "metadata": {},
          "execution_count": 277
        }
      ]
    },
    {
      "cell_type": "markdown",
      "source": [
        "### 排名次"
      ],
      "metadata": {
        "id": "wVcm-EOfpGJk"
      }
    },
    {
      "cell_type": "code",
      "source": [
        "df['名次'] = df['總分'].rank(ascending=False)"
      ],
      "metadata": {
        "id": "eNGCIZm5oL1L"
      },
      "execution_count": 283,
      "outputs": []
    },
    {
      "cell_type": "code",
      "source": [
        "df"
      ],
      "metadata": {
        "colab": {
          "base_uri": "https://localhost:8080/",
          "height": 363
        },
        "id": "FWXxZtTZoX5d",
        "outputId": "a9ba9ec5-5ace-4e14-b877-dfb0024fb15d"
      },
      "execution_count": 284,
      "outputs": [
        {
          "output_type": "execute_result",
          "data": {
            "text/plain": [
              "     國文  數學  英文  理化   總分     平均    名次\n",
              "郭雅惠  99  59  92  64  314  78.50   2.0\n",
              "陳欣虹  58  62  44  91  255  63.75   7.0\n",
              "王孟修  89  55  79  66  289  72.25   5.0\n",
              "李政勇  38  56  52  36  182  45.50  10.0\n",
              "陳仲燦  73  93  43  81  290  72.50   4.0\n",
              "王寧東  47  63  83  81  274  68.50   6.0\n",
              "楊雅名  71  46  71  66  254  63.50   8.0\n",
              "藍冰啟  56  53  59  67  235  58.75   9.0\n",
              "林玉亨  78  95  69  71  313  78.25   3.0\n",
              "崔承睿  95  98  96  67  356  89.00   1.0"
            ],
            "text/html": [
              "\n",
              "  <div id=\"df-a0e55532-a8c6-4076-85cc-fb47ccaeac0c\">\n",
              "    <div class=\"colab-df-container\">\n",
              "      <div>\n",
              "<style scoped>\n",
              "    .dataframe tbody tr th:only-of-type {\n",
              "        vertical-align: middle;\n",
              "    }\n",
              "\n",
              "    .dataframe tbody tr th {\n",
              "        vertical-align: top;\n",
              "    }\n",
              "\n",
              "    .dataframe thead th {\n",
              "        text-align: right;\n",
              "    }\n",
              "</style>\n",
              "<table border=\"1\" class=\"dataframe\">\n",
              "  <thead>\n",
              "    <tr style=\"text-align: right;\">\n",
              "      <th></th>\n",
              "      <th>國文</th>\n",
              "      <th>數學</th>\n",
              "      <th>英文</th>\n",
              "      <th>理化</th>\n",
              "      <th>總分</th>\n",
              "      <th>平均</th>\n",
              "      <th>名次</th>\n",
              "    </tr>\n",
              "  </thead>\n",
              "  <tbody>\n",
              "    <tr>\n",
              "      <th>郭雅惠</th>\n",
              "      <td>99</td>\n",
              "      <td>59</td>\n",
              "      <td>92</td>\n",
              "      <td>64</td>\n",
              "      <td>314</td>\n",
              "      <td>78.50</td>\n",
              "      <td>2.0</td>\n",
              "    </tr>\n",
              "    <tr>\n",
              "      <th>陳欣虹</th>\n",
              "      <td>58</td>\n",
              "      <td>62</td>\n",
              "      <td>44</td>\n",
              "      <td>91</td>\n",
              "      <td>255</td>\n",
              "      <td>63.75</td>\n",
              "      <td>7.0</td>\n",
              "    </tr>\n",
              "    <tr>\n",
              "      <th>王孟修</th>\n",
              "      <td>89</td>\n",
              "      <td>55</td>\n",
              "      <td>79</td>\n",
              "      <td>66</td>\n",
              "      <td>289</td>\n",
              "      <td>72.25</td>\n",
              "      <td>5.0</td>\n",
              "    </tr>\n",
              "    <tr>\n",
              "      <th>李政勇</th>\n",
              "      <td>38</td>\n",
              "      <td>56</td>\n",
              "      <td>52</td>\n",
              "      <td>36</td>\n",
              "      <td>182</td>\n",
              "      <td>45.50</td>\n",
              "      <td>10.0</td>\n",
              "    </tr>\n",
              "    <tr>\n",
              "      <th>陳仲燦</th>\n",
              "      <td>73</td>\n",
              "      <td>93</td>\n",
              "      <td>43</td>\n",
              "      <td>81</td>\n",
              "      <td>290</td>\n",
              "      <td>72.50</td>\n",
              "      <td>4.0</td>\n",
              "    </tr>\n",
              "    <tr>\n",
              "      <th>王寧東</th>\n",
              "      <td>47</td>\n",
              "      <td>63</td>\n",
              "      <td>83</td>\n",
              "      <td>81</td>\n",
              "      <td>274</td>\n",
              "      <td>68.50</td>\n",
              "      <td>6.0</td>\n",
              "    </tr>\n",
              "    <tr>\n",
              "      <th>楊雅名</th>\n",
              "      <td>71</td>\n",
              "      <td>46</td>\n",
              "      <td>71</td>\n",
              "      <td>66</td>\n",
              "      <td>254</td>\n",
              "      <td>63.50</td>\n",
              "      <td>8.0</td>\n",
              "    </tr>\n",
              "    <tr>\n",
              "      <th>藍冰啟</th>\n",
              "      <td>56</td>\n",
              "      <td>53</td>\n",
              "      <td>59</td>\n",
              "      <td>67</td>\n",
              "      <td>235</td>\n",
              "      <td>58.75</td>\n",
              "      <td>9.0</td>\n",
              "    </tr>\n",
              "    <tr>\n",
              "      <th>林玉亨</th>\n",
              "      <td>78</td>\n",
              "      <td>95</td>\n",
              "      <td>69</td>\n",
              "      <td>71</td>\n",
              "      <td>313</td>\n",
              "      <td>78.25</td>\n",
              "      <td>3.0</td>\n",
              "    </tr>\n",
              "    <tr>\n",
              "      <th>崔承睿</th>\n",
              "      <td>95</td>\n",
              "      <td>98</td>\n",
              "      <td>96</td>\n",
              "      <td>67</td>\n",
              "      <td>356</td>\n",
              "      <td>89.00</td>\n",
              "      <td>1.0</td>\n",
              "    </tr>\n",
              "  </tbody>\n",
              "</table>\n",
              "</div>\n",
              "      <button class=\"colab-df-convert\" onclick=\"convertToInteractive('df-a0e55532-a8c6-4076-85cc-fb47ccaeac0c')\"\n",
              "              title=\"Convert this dataframe to an interactive table.\"\n",
              "              style=\"display:none;\">\n",
              "        \n",
              "  <svg xmlns=\"http://www.w3.org/2000/svg\" height=\"24px\"viewBox=\"0 0 24 24\"\n",
              "       width=\"24px\">\n",
              "    <path d=\"M0 0h24v24H0V0z\" fill=\"none\"/>\n",
              "    <path d=\"M18.56 5.44l.94 2.06.94-2.06 2.06-.94-2.06-.94-.94-2.06-.94 2.06-2.06.94zm-11 1L8.5 8.5l.94-2.06 2.06-.94-2.06-.94L8.5 2.5l-.94 2.06-2.06.94zm10 10l.94 2.06.94-2.06 2.06-.94-2.06-.94-.94-2.06-.94 2.06-2.06.94z\"/><path d=\"M17.41 7.96l-1.37-1.37c-.4-.4-.92-.59-1.43-.59-.52 0-1.04.2-1.43.59L10.3 9.45l-7.72 7.72c-.78.78-.78 2.05 0 2.83L4 21.41c.39.39.9.59 1.41.59.51 0 1.02-.2 1.41-.59l7.78-7.78 2.81-2.81c.8-.78.8-2.07 0-2.86zM5.41 20L4 18.59l7.72-7.72 1.47 1.35L5.41 20z\"/>\n",
              "  </svg>\n",
              "      </button>\n",
              "      \n",
              "  <style>\n",
              "    .colab-df-container {\n",
              "      display:flex;\n",
              "      flex-wrap:wrap;\n",
              "      gap: 12px;\n",
              "    }\n",
              "\n",
              "    .colab-df-convert {\n",
              "      background-color: #E8F0FE;\n",
              "      border: none;\n",
              "      border-radius: 50%;\n",
              "      cursor: pointer;\n",
              "      display: none;\n",
              "      fill: #1967D2;\n",
              "      height: 32px;\n",
              "      padding: 0 0 0 0;\n",
              "      width: 32px;\n",
              "    }\n",
              "\n",
              "    .colab-df-convert:hover {\n",
              "      background-color: #E2EBFA;\n",
              "      box-shadow: 0px 1px 2px rgba(60, 64, 67, 0.3), 0px 1px 3px 1px rgba(60, 64, 67, 0.15);\n",
              "      fill: #174EA6;\n",
              "    }\n",
              "\n",
              "    [theme=dark] .colab-df-convert {\n",
              "      background-color: #3B4455;\n",
              "      fill: #D2E3FC;\n",
              "    }\n",
              "\n",
              "    [theme=dark] .colab-df-convert:hover {\n",
              "      background-color: #434B5C;\n",
              "      box-shadow: 0px 1px 3px 1px rgba(0, 0, 0, 0.15);\n",
              "      filter: drop-shadow(0px 1px 2px rgba(0, 0, 0, 0.3));\n",
              "      fill: #FFFFFF;\n",
              "    }\n",
              "  </style>\n",
              "\n",
              "      <script>\n",
              "        const buttonEl =\n",
              "          document.querySelector('#df-a0e55532-a8c6-4076-85cc-fb47ccaeac0c button.colab-df-convert');\n",
              "        buttonEl.style.display =\n",
              "          google.colab.kernel.accessAllowed ? 'block' : 'none';\n",
              "\n",
              "        async function convertToInteractive(key) {\n",
              "          const element = document.querySelector('#df-a0e55532-a8c6-4076-85cc-fb47ccaeac0c');\n",
              "          const dataTable =\n",
              "            await google.colab.kernel.invokeFunction('convertToInteractive',\n",
              "                                                     [key], {});\n",
              "          if (!dataTable) return;\n",
              "\n",
              "          const docLinkHtml = 'Like what you see? Visit the ' +\n",
              "            '<a target=\"_blank\" href=https://colab.research.google.com/notebooks/data_table.ipynb>data table notebook</a>'\n",
              "            + ' to learn more about interactive tables.';\n",
              "          element.innerHTML = '';\n",
              "          dataTable['output_type'] = 'display_data';\n",
              "          await google.colab.output.renderOutput(dataTable, element);\n",
              "          const docLink = document.createElement('div');\n",
              "          docLink.innerHTML = docLinkHtml;\n",
              "          element.appendChild(docLink);\n",
              "        }\n",
              "      </script>\n",
              "    </div>\n",
              "  </div>\n",
              "  "
            ]
          },
          "metadata": {},
          "execution_count": 284
        }
      ]
    },
    {
      "cell_type": "markdown",
      "source": [
        "### 輸出成excel"
      ],
      "metadata": {
        "id": "t2Go08tGn5FR"
      }
    },
    {
      "cell_type": "code",
      "source": [
        "df.to_excel('成績.xlsx')"
      ],
      "metadata": {
        "id": "FuojQt1onuVr"
      },
      "execution_count": 278,
      "outputs": []
    },
    {
      "cell_type": "markdown",
      "source": [
        "## 字串格式化"
      ],
      "metadata": {
        "id": "jwL-4JT4uNlI"
      }
    },
    {
      "cell_type": "code",
      "source": [
        "x = 1\n",
        "y = 1.23\n",
        "z = True\n",
        "w = 'HI'"
      ],
      "metadata": {
        "id": "5T89oCDsqxfl"
      },
      "execution_count": null,
      "outputs": []
    },
    {
      "cell_type": "code",
      "source": [
        "print(x, y, z, w, sep='-')"
      ],
      "metadata": {
        "id": "3pc4O3fvul1Y"
      },
      "execution_count": null,
      "outputs": []
    },
    {
      "cell_type": "markdown",
      "source": [
        "### format"
      ],
      "metadata": {
        "id": "bq2o_r5DvAoZ"
      }
    },
    {
      "cell_type": "code",
      "source": [
        "print('{}-{}-{}-{}'.format(x, y, z, w))"
      ],
      "metadata": {
        "id": "Uob1DdQiuzMr"
      },
      "execution_count": null,
      "outputs": []
    },
    {
      "cell_type": "markdown",
      "source": [
        "### f-string(3.5+)"
      ],
      "metadata": {
        "id": "hDNPLwlrvESA"
      }
    },
    {
      "cell_type": "code",
      "source": [
        "print(f'{x}-{y}-{z}-{w}')"
      ],
      "metadata": {
        "id": "dzKIPZU1vHnZ"
      },
      "execution_count": null,
      "outputs": []
    },
    {
      "cell_type": "code",
      "source": [
        "# 在變數後面加上:數字，表示要將格式調整為幾位數，例如5，表示要將變數前面再多加入4個空白\n",
        "print(f'{x:5}-{y:7.2f}-{z}-{w}')\n",
        "print(f'{x:>9}-{y:09.2}-{z}-{w:>10}')"
      ],
      "metadata": {
        "id": "X3cSqep1vtYo"
      },
      "execution_count": null,
      "outputs": []
    },
    {
      "cell_type": "code",
      "source": [
        "popularity = [[\"Language\", 2017, 2012, 2007, 2002, 1997, 1992, 1987], \n",
        "          [\"Java\", 1, 2, 1, 1, 15, 0, 0],\n",
        "          [\"C\", 2, 1, 2, 2, 1, 1, 1],\n",
        "          [\"C++\", 3, 3, 3, 3, 2, 2, 5],\n",
        "          [\"C#\", 4, 4, 7, 13, 0, 0, 0],\n",
        "          [\"Python\", 5, 7, 6, 11, 27, 0, 0],\n",
        "          [\"Visual Basic .NET\", 6, 17, 0, 0, 0, 0, 0],\n",
        "          [\"PHP\", 7, 6, 4, 5, 0, 0, 0],\n",
        "          [\"JavaScript\", 8, 9, 8, 7, 23, 0, 0],\n",
        "          [\"Perl\", 9, 8, 5, 4, 4, 10, 0]]\n",
        "format_string = \"{:<20}  {:>4}  {:>4}  {:>4}  {:>4}  {:>4}  {:>4}  {:>4}\""
      ],
      "metadata": {
        "id": "YKD9OzNsB8c_"
      },
      "execution_count": null,
      "outputs": []
    },
    {
      "cell_type": "code",
      "source": [
        "for l in popularity: \n",
        "  print(format_string.format(l[0], l[1], l[2], l[3], l[4], l[5], l[6], l[7]))"
      ],
      "metadata": {
        "id": "8EuqNp-ZB9s0"
      },
      "execution_count": null,
      "outputs": []
    },
    {
      "cell_type": "markdown",
      "source": [
        "使用*將unpack list ，意思將列表所有資料列出來"
      ],
      "metadata": {
        "id": "QbzLL1hRDShR"
      }
    },
    {
      "cell_type": "code",
      "source": [
        "for l in popularity: \n",
        "  print(format_string.format(*l))"
      ],
      "metadata": {
        "id": "nWT1tae2DN0U"
      },
      "execution_count": null,
      "outputs": []
    }
  ]
}